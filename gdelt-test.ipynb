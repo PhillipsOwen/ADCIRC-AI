{
 "cells": [
  {
   "metadata": {
    "ExecuteTime": {
     "end_time": "2025-08-27T14:50:59.773907Z",
     "start_time": "2025-08-27T14:50:59.758472Z"
    }
   },
   "cell_type": "code",
   "source": [
    "from rich.console import Console\n",
    "from rich_theme_manager import ThemeManager\n",
    "import pathlib\n",
    "\n",
    "theme_dir = pathlib.Path(\"themes\")\n",
    "theme_manager = ThemeManager(theme_dir=theme_dir)\n",
    "dark = theme_manager.get(\"dark\")\n",
    "\n",
    "# Create a console with the dark theme\n",
    "console = Console(theme=dark)"
   ],
   "id": "25f48ddcb3e08e8b",
   "outputs": [],
   "execution_count": 27
  },
  {
   "metadata": {
    "ExecuteTime": {
     "end_time": "2025-08-27T14:11:16.786309Z",
     "start_time": "2025-08-27T14:11:16.768517Z"
    }
   },
   "cell_type": "code",
   "source": [
    "import warnings\n",
    "\n",
    "# Suppress warnings\n",
    "warnings.filterwarnings('ignore')"
   ],
   "id": "82c3c070122d2eb8",
   "outputs": [],
   "execution_count": 2
  },
  {
   "metadata": {
    "collapsed": true,
    "ExecuteTime": {
     "end_time": "2025-08-27T14:57:10.213114Z",
     "start_time": "2025-08-27T14:57:03.546792Z"
    }
   },
   "cell_type": "code",
   "source": [
    "import gdelt\n",
    "\n",
    "# get a handle to the gdelt data\n",
    "gd2 = gdelt.gdelt(version=2)\n",
    "\n",
    "# get events for today\n",
    "data = gd2.Search(['2025-08-27'],\n",
    "    table=\"events\",\n",
    "    coverage=True\n",
    ")\n",
    "\n",
    "# save the results in a CSV file to save time on reruns\n",
    "data.to_csv(\"data/gdelt_results.csv\")"
   ],
   "id": "2bf15e25164cc8ca",
   "outputs": [],
   "execution_count": 30
  },
  {
   "metadata": {
    "ExecuteTime": {
     "end_time": "2025-08-27T14:57:59.195860Z",
     "start_time": "2025-08-27T14:57:57.061099Z"
    }
   },
   "cell_type": "code",
   "source": [
    "import pandas as pd\n",
    "\n",
    "# load the gdelt data\n",
    "data = (\n",
    "    pd\n",
    "    .read_csv('data/gdelt_results.csv')\n",
    "    .query('CAMEOCodeDescription.notna()')\n",
    "    .reset_index(drop=True)\n",
    "    .to_dict('records')\n",
    ")\n",
    "\n",
    "# output a couple samples\n",
    "console.print(data[:2])"
   ],
   "id": "ceb7a6abbb878aea",
   "outputs": [
    {
     "data": {
      "text/plain": [
       "\u001B[1m[\u001B[0m\n",
       "    \u001B[1m{\u001B[0m\n",
       "        \u001B[32m'Unnamed: 0'\u001B[0m: \u001B[37m0\u001B[0m,\n",
       "        \u001B[32m'GLOBALEVENTID'\u001B[0m: \u001B[37m1259740626\u001B[0m,\n",
       "        \u001B[32m'SQLDATE'\u001B[0m: \u001B[37m20240827\u001B[0m,\n",
       "        \u001B[32m'MonthYear'\u001B[0m: \u001B[37m202408\u001B[0m,\n",
       "        \u001B[32m'Year'\u001B[0m: \u001B[37m2024\u001B[0m,\n",
       "        \u001B[32m'FractionDate'\u001B[0m: \u001B[37m2024.6493\u001B[0m,\n",
       "        \u001B[32m'Actor1Code'\u001B[0m: \u001B[32m'FRA'\u001B[0m,\n",
       "        \u001B[32m'Actor1Name'\u001B[0m: \u001B[32m'FRANCE'\u001B[0m,\n",
       "        \u001B[32m'Actor1CountryCode'\u001B[0m: \u001B[32m'FRA'\u001B[0m,\n",
       "        \u001B[32m'Actor1KnownGroupCode'\u001B[0m: nan,\n",
       "        \u001B[32m'Actor1EthnicCode'\u001B[0m: nan,\n",
       "        \u001B[32m'Actor1Religion1Code'\u001B[0m: nan,\n",
       "        \u001B[32m'Actor1Religion2Code'\u001B[0m: nan,\n",
       "        \u001B[32m'Actor1Type1Code'\u001B[0m: nan,\n",
       "        \u001B[32m'Actor1Type2Code'\u001B[0m: nan,\n",
       "        \u001B[32m'Actor1Type3Code'\u001B[0m: nan,\n",
       "        \u001B[32m'Actor2Code'\u001B[0m: nan,\n",
       "        \u001B[32m'Actor2Name'\u001B[0m: nan,\n",
       "        \u001B[32m'Actor2CountryCode'\u001B[0m: nan,\n",
       "        \u001B[32m'Actor2KnownGroupCode'\u001B[0m: nan,\n",
       "        \u001B[32m'Actor2EthnicCode'\u001B[0m: nan,\n",
       "        \u001B[32m'Actor2Religion1Code'\u001B[0m: nan,\n",
       "        \u001B[32m'Actor2Religion2Code'\u001B[0m: nan,\n",
       "        \u001B[32m'Actor2Type1Code'\u001B[0m: nan,\n",
       "        \u001B[32m'Actor2Type2Code'\u001B[0m: nan,\n",
       "        \u001B[32m'Actor2Type3Code'\u001B[0m: nan,\n",
       "        \u001B[32m'IsRootEvent'\u001B[0m: \u001B[37m1\u001B[0m,\n",
       "        \u001B[32m'EventCode'\u001B[0m: \u001B[37m193\u001B[0m,\n",
       "        \u001B[32m'CAMEOCodeDescription'\u001B[0m: \u001B[32m' Fight with small arms and light weapons'\u001B[0m,\n",
       "        \u001B[32m'EventBaseCode'\u001B[0m: \u001B[37m193\u001B[0m,\n",
       "        \u001B[32m'EventRootCode'\u001B[0m: \u001B[37m19\u001B[0m,\n",
       "        \u001B[32m'QuadClass'\u001B[0m: \u001B[37m4\u001B[0m,\n",
       "        \u001B[32m'GoldsteinScale'\u001B[0m: \u001B[37m-10.0\u001B[0m,\n",
       "        \u001B[32m'NumMentions'\u001B[0m: \u001B[37m1\u001B[0m,\n",
       "        \u001B[32m'NumSources'\u001B[0m: \u001B[37m1\u001B[0m,\n",
       "        \u001B[32m'NumArticles'\u001B[0m: \u001B[37m1\u001B[0m,\n",
       "        \u001B[32m'AvgTone'\u001B[0m: \u001B[37m1.83098591549296\u001B[0m,\n",
       "        \u001B[32m'Actor1Geo_Type'\u001B[0m: \u001B[37m1\u001B[0m,\n",
       "        \u001B[32m'Actor1Geo_FullName'\u001B[0m: \u001B[32m'Spain'\u001B[0m,\n",
       "        \u001B[32m'Actor1Geo_CountryCode'\u001B[0m: \u001B[32m'SP'\u001B[0m,\n",
       "        \u001B[32m'Actor1Geo_ADM1Code'\u001B[0m: \u001B[32m'SP'\u001B[0m,\n",
       "        \u001B[32m'Actor1Geo_ADM2Code'\u001B[0m: nan,\n",
       "        \u001B[32m'Actor1Geo_Lat'\u001B[0m: \u001B[37m40.0\u001B[0m,\n",
       "        \u001B[32m'Actor1Geo_Long'\u001B[0m: \u001B[37m-4.0\u001B[0m,\n",
       "        \u001B[32m'Actor1Geo_FeatureID'\u001B[0m: \u001B[32m'SP'\u001B[0m,\n",
       "        \u001B[32m'Actor2Geo_Type'\u001B[0m: \u001B[37m0\u001B[0m,\n",
       "        \u001B[32m'Actor2Geo_FullName'\u001B[0m: nan,\n",
       "        \u001B[32m'Actor2Geo_CountryCode'\u001B[0m: nan,\n",
       "        \u001B[32m'Actor2Geo_ADM1Code'\u001B[0m: nan,\n",
       "        \u001B[32m'Actor2Geo_ADM2Code'\u001B[0m: nan,\n",
       "        \u001B[32m'Actor2Geo_Lat'\u001B[0m: nan,\n",
       "        \u001B[32m'Actor2Geo_Long'\u001B[0m: nan,\n",
       "        \u001B[32m'Actor2Geo_FeatureID'\u001B[0m: nan,\n",
       "        \u001B[32m'ActionGeo_Type'\u001B[0m: \u001B[37m2\u001B[0m,\n",
       "        \u001B[32m'ActionGeo_FullName'\u001B[0m: \u001B[32m'New York, United States'\u001B[0m,\n",
       "        \u001B[32m'ActionGeo_CountryCode'\u001B[0m: \u001B[32m'US'\u001B[0m,\n",
       "        \u001B[32m'ActionGeo_ADM1Code'\u001B[0m: \u001B[32m'USNY'\u001B[0m,\n",
       "        \u001B[32m'ActionGeo_ADM2Code'\u001B[0m: nan,\n",
       "        \u001B[32m'ActionGeo_Lat'\u001B[0m: \u001B[37m42.1497\u001B[0m,\n",
       "        \u001B[32m'ActionGeo_Long'\u001B[0m: \u001B[37m-74.9384\u001B[0m,\n",
       "        \u001B[32m'ActionGeo_FeatureID'\u001B[0m: \u001B[32m'NY'\u001B[0m,\n",
       "        \u001B[32m'DATEADDED'\u001B[0m: \u001B[37m20250827013000\u001B[0m,\n",
       "        \u001B[32m'SOURCEURL'\u001B[0m: \n",
       "\u001B[32m'https://www.dailymail.co.uk/news/royals/article-15036811/JAN-MOIR-Meghan-second-helping-woman-boasting-hosting-mak\u001B[0m\n",
       "\u001B[32mes-curl-edges-like-squid-hot-grill.html'\u001B[0m\n",
       "    \u001B[1m}\u001B[0m,\n",
       "    \u001B[1m{\u001B[0m\n",
       "        \u001B[32m'Unnamed: 0'\u001B[0m: \u001B[37m1\u001B[0m,\n",
       "        \u001B[32m'GLOBALEVENTID'\u001B[0m: \u001B[37m1259740627\u001B[0m,\n",
       "        \u001B[32m'SQLDATE'\u001B[0m: \u001B[37m20240827\u001B[0m,\n",
       "        \u001B[32m'MonthYear'\u001B[0m: \u001B[37m202408\u001B[0m,\n",
       "        \u001B[32m'Year'\u001B[0m: \u001B[37m2024\u001B[0m,\n",
       "        \u001B[32m'FractionDate'\u001B[0m: \u001B[37m2024.6493\u001B[0m,\n",
       "        \u001B[32m'Actor1Code'\u001B[0m: \u001B[32m'MEX'\u001B[0m,\n",
       "        \u001B[32m'Actor1Name'\u001B[0m: \u001B[32m'MEXICO'\u001B[0m,\n",
       "        \u001B[32m'Actor1CountryCode'\u001B[0m: \u001B[32m'MEX'\u001B[0m,\n",
       "        \u001B[32m'Actor1KnownGroupCode'\u001B[0m: nan,\n",
       "        \u001B[32m'Actor1EthnicCode'\u001B[0m: nan,\n",
       "        \u001B[32m'Actor1Religion1Code'\u001B[0m: nan,\n",
       "        \u001B[32m'Actor1Religion2Code'\u001B[0m: nan,\n",
       "        \u001B[32m'Actor1Type1Code'\u001B[0m: nan,\n",
       "        \u001B[32m'Actor1Type2Code'\u001B[0m: nan,\n",
       "        \u001B[32m'Actor1Type3Code'\u001B[0m: nan,\n",
       "        \u001B[32m'Actor2Code'\u001B[0m: \u001B[32m'USA'\u001B[0m,\n",
       "        \u001B[32m'Actor2Name'\u001B[0m: \u001B[32m'UNITED STATES'\u001B[0m,\n",
       "        \u001B[32m'Actor2CountryCode'\u001B[0m: \u001B[32m'USA'\u001B[0m,\n",
       "        \u001B[32m'Actor2KnownGroupCode'\u001B[0m: nan,\n",
       "        \u001B[32m'Actor2EthnicCode'\u001B[0m: nan,\n",
       "        \u001B[32m'Actor2Religion1Code'\u001B[0m: nan,\n",
       "        \u001B[32m'Actor2Religion2Code'\u001B[0m: nan,\n",
       "        \u001B[32m'Actor2Type1Code'\u001B[0m: nan,\n",
       "        \u001B[32m'Actor2Type2Code'\u001B[0m: nan,\n",
       "        \u001B[32m'Actor2Type3Code'\u001B[0m: nan,\n",
       "        \u001B[32m'IsRootEvent'\u001B[0m: \u001B[37m1\u001B[0m,\n",
       "        \u001B[32m'EventCode'\u001B[0m: \u001B[37m10\u001B[0m,\n",
       "        \u001B[32m'CAMEOCodeDescription'\u001B[0m: \u001B[32m' Make statement, not specified below'\u001B[0m,\n",
       "        \u001B[32m'EventBaseCode'\u001B[0m: \u001B[37m10\u001B[0m,\n",
       "        \u001B[32m'EventRootCode'\u001B[0m: \u001B[37m1\u001B[0m,\n",
       "        \u001B[32m'QuadClass'\u001B[0m: \u001B[37m1\u001B[0m,\n",
       "        \u001B[32m'GoldsteinScale'\u001B[0m: \u001B[37m0.0\u001B[0m,\n",
       "        \u001B[32m'NumMentions'\u001B[0m: \u001B[37m2\u001B[0m,\n",
       "        \u001B[32m'NumSources'\u001B[0m: \u001B[37m1\u001B[0m,\n",
       "        \u001B[32m'NumArticles'\u001B[0m: \u001B[37m2\u001B[0m,\n",
       "        \u001B[32m'AvgTone'\u001B[0m: \u001B[37m2.38693467336684\u001B[0m,\n",
       "        \u001B[32m'Actor1Geo_Type'\u001B[0m: \u001B[37m2\u001B[0m,\n",
       "        \u001B[32m'Actor1Geo_FullName'\u001B[0m: \u001B[32m'Idaho, United States'\u001B[0m,\n",
       "        \u001B[32m'Actor1Geo_CountryCode'\u001B[0m: \u001B[32m'US'\u001B[0m,\n",
       "        \u001B[32m'Actor1Geo_ADM1Code'\u001B[0m: \u001B[32m'USID'\u001B[0m,\n",
       "        \u001B[32m'Actor1Geo_ADM2Code'\u001B[0m: nan,\n",
       "        \u001B[32m'Actor1Geo_Lat'\u001B[0m: \u001B[37m44.2394\u001B[0m,\n",
       "        \u001B[32m'Actor1Geo_Long'\u001B[0m: \u001B[37m-114.51\u001B[0m,\n",
       "        \u001B[32m'Actor1Geo_FeatureID'\u001B[0m: \u001B[32m'ID'\u001B[0m,\n",
       "        \u001B[32m'Actor2Geo_Type'\u001B[0m: \u001B[37m2\u001B[0m,\n",
       "        \u001B[32m'Actor2Geo_FullName'\u001B[0m: \u001B[32m'New York, United States'\u001B[0m,\n",
       "        \u001B[32m'Actor2Geo_CountryCode'\u001B[0m: \u001B[32m'US'\u001B[0m,\n",
       "        \u001B[32m'Actor2Geo_ADM1Code'\u001B[0m: \u001B[32m'USNY'\u001B[0m,\n",
       "        \u001B[32m'Actor2Geo_ADM2Code'\u001B[0m: nan,\n",
       "        \u001B[32m'Actor2Geo_Lat'\u001B[0m: \u001B[37m42.1497\u001B[0m,\n",
       "        \u001B[32m'Actor2Geo_Long'\u001B[0m: \u001B[37m-74.9384\u001B[0m,\n",
       "        \u001B[32m'Actor2Geo_FeatureID'\u001B[0m: \u001B[32m'NY'\u001B[0m,\n",
       "        \u001B[32m'ActionGeo_Type'\u001B[0m: \u001B[37m2\u001B[0m,\n",
       "        \u001B[32m'ActionGeo_FullName'\u001B[0m: \u001B[32m'Idaho, United States'\u001B[0m,\n",
       "        \u001B[32m'ActionGeo_CountryCode'\u001B[0m: \u001B[32m'US'\u001B[0m,\n",
       "        \u001B[32m'ActionGeo_ADM1Code'\u001B[0m: \u001B[32m'USID'\u001B[0m,\n",
       "        \u001B[32m'ActionGeo_ADM2Code'\u001B[0m: nan,\n",
       "        \u001B[32m'ActionGeo_Lat'\u001B[0m: \u001B[37m44.2394\u001B[0m,\n",
       "        \u001B[32m'ActionGeo_Long'\u001B[0m: \u001B[37m-114.51\u001B[0m,\n",
       "        \u001B[32m'ActionGeo_FeatureID'\u001B[0m: \u001B[32m'ID'\u001B[0m,\n",
       "        \u001B[32m'DATEADDED'\u001B[0m: \u001B[37m20250827013000\u001B[0m,\n",
       "        \u001B[32m'SOURCEURL'\u001B[0m: \u001B[32m'https://www.sltrib.com/news/2025/08/26/crumbl-cookies-sawyer-hemsley-ive/'\u001B[0m\n",
       "    \u001B[1m}\u001B[0m\n",
       "\u001B[1m]\u001B[0m\n"
      ],
      "text/html": [
       "<pre style=\"white-space:pre;overflow-x:auto;line-height:normal;font-family:Menlo,'DejaVu Sans Mono',consolas,'Courier New',monospace\"><span style=\"font-weight: bold\">[</span>\n",
       "    <span style=\"font-weight: bold\">{</span>\n",
       "        <span style=\"color: #008000; text-decoration-color: #008000\">'Unnamed: 0'</span>: <span style=\"color: #c0c0c0; text-decoration-color: #c0c0c0\">0</span>,\n",
       "        <span style=\"color: #008000; text-decoration-color: #008000\">'GLOBALEVENTID'</span>: <span style=\"color: #c0c0c0; text-decoration-color: #c0c0c0\">1259740626</span>,\n",
       "        <span style=\"color: #008000; text-decoration-color: #008000\">'SQLDATE'</span>: <span style=\"color: #c0c0c0; text-decoration-color: #c0c0c0\">20240827</span>,\n",
       "        <span style=\"color: #008000; text-decoration-color: #008000\">'MonthYear'</span>: <span style=\"color: #c0c0c0; text-decoration-color: #c0c0c0\">202408</span>,\n",
       "        <span style=\"color: #008000; text-decoration-color: #008000\">'Year'</span>: <span style=\"color: #c0c0c0; text-decoration-color: #c0c0c0\">2024</span>,\n",
       "        <span style=\"color: #008000; text-decoration-color: #008000\">'FractionDate'</span>: <span style=\"color: #c0c0c0; text-decoration-color: #c0c0c0\">2024.6493</span>,\n",
       "        <span style=\"color: #008000; text-decoration-color: #008000\">'Actor1Code'</span>: <span style=\"color: #008000; text-decoration-color: #008000\">'FRA'</span>,\n",
       "        <span style=\"color: #008000; text-decoration-color: #008000\">'Actor1Name'</span>: <span style=\"color: #008000; text-decoration-color: #008000\">'FRANCE'</span>,\n",
       "        <span style=\"color: #008000; text-decoration-color: #008000\">'Actor1CountryCode'</span>: <span style=\"color: #008000; text-decoration-color: #008000\">'FRA'</span>,\n",
       "        <span style=\"color: #008000; text-decoration-color: #008000\">'Actor1KnownGroupCode'</span>: nan,\n",
       "        <span style=\"color: #008000; text-decoration-color: #008000\">'Actor1EthnicCode'</span>: nan,\n",
       "        <span style=\"color: #008000; text-decoration-color: #008000\">'Actor1Religion1Code'</span>: nan,\n",
       "        <span style=\"color: #008000; text-decoration-color: #008000\">'Actor1Religion2Code'</span>: nan,\n",
       "        <span style=\"color: #008000; text-decoration-color: #008000\">'Actor1Type1Code'</span>: nan,\n",
       "        <span style=\"color: #008000; text-decoration-color: #008000\">'Actor1Type2Code'</span>: nan,\n",
       "        <span style=\"color: #008000; text-decoration-color: #008000\">'Actor1Type3Code'</span>: nan,\n",
       "        <span style=\"color: #008000; text-decoration-color: #008000\">'Actor2Code'</span>: nan,\n",
       "        <span style=\"color: #008000; text-decoration-color: #008000\">'Actor2Name'</span>: nan,\n",
       "        <span style=\"color: #008000; text-decoration-color: #008000\">'Actor2CountryCode'</span>: nan,\n",
       "        <span style=\"color: #008000; text-decoration-color: #008000\">'Actor2KnownGroupCode'</span>: nan,\n",
       "        <span style=\"color: #008000; text-decoration-color: #008000\">'Actor2EthnicCode'</span>: nan,\n",
       "        <span style=\"color: #008000; text-decoration-color: #008000\">'Actor2Religion1Code'</span>: nan,\n",
       "        <span style=\"color: #008000; text-decoration-color: #008000\">'Actor2Religion2Code'</span>: nan,\n",
       "        <span style=\"color: #008000; text-decoration-color: #008000\">'Actor2Type1Code'</span>: nan,\n",
       "        <span style=\"color: #008000; text-decoration-color: #008000\">'Actor2Type2Code'</span>: nan,\n",
       "        <span style=\"color: #008000; text-decoration-color: #008000\">'Actor2Type3Code'</span>: nan,\n",
       "        <span style=\"color: #008000; text-decoration-color: #008000\">'IsRootEvent'</span>: <span style=\"color: #c0c0c0; text-decoration-color: #c0c0c0\">1</span>,\n",
       "        <span style=\"color: #008000; text-decoration-color: #008000\">'EventCode'</span>: <span style=\"color: #c0c0c0; text-decoration-color: #c0c0c0\">193</span>,\n",
       "        <span style=\"color: #008000; text-decoration-color: #008000\">'CAMEOCodeDescription'</span>: <span style=\"color: #008000; text-decoration-color: #008000\">' Fight with small arms and light weapons'</span>,\n",
       "        <span style=\"color: #008000; text-decoration-color: #008000\">'EventBaseCode'</span>: <span style=\"color: #c0c0c0; text-decoration-color: #c0c0c0\">193</span>,\n",
       "        <span style=\"color: #008000; text-decoration-color: #008000\">'EventRootCode'</span>: <span style=\"color: #c0c0c0; text-decoration-color: #c0c0c0\">19</span>,\n",
       "        <span style=\"color: #008000; text-decoration-color: #008000\">'QuadClass'</span>: <span style=\"color: #c0c0c0; text-decoration-color: #c0c0c0\">4</span>,\n",
       "        <span style=\"color: #008000; text-decoration-color: #008000\">'GoldsteinScale'</span>: <span style=\"color: #c0c0c0; text-decoration-color: #c0c0c0\">-10.0</span>,\n",
       "        <span style=\"color: #008000; text-decoration-color: #008000\">'NumMentions'</span>: <span style=\"color: #c0c0c0; text-decoration-color: #c0c0c0\">1</span>,\n",
       "        <span style=\"color: #008000; text-decoration-color: #008000\">'NumSources'</span>: <span style=\"color: #c0c0c0; text-decoration-color: #c0c0c0\">1</span>,\n",
       "        <span style=\"color: #008000; text-decoration-color: #008000\">'NumArticles'</span>: <span style=\"color: #c0c0c0; text-decoration-color: #c0c0c0\">1</span>,\n",
       "        <span style=\"color: #008000; text-decoration-color: #008000\">'AvgTone'</span>: <span style=\"color: #c0c0c0; text-decoration-color: #c0c0c0\">1.83098591549296</span>,\n",
       "        <span style=\"color: #008000; text-decoration-color: #008000\">'Actor1Geo_Type'</span>: <span style=\"color: #c0c0c0; text-decoration-color: #c0c0c0\">1</span>,\n",
       "        <span style=\"color: #008000; text-decoration-color: #008000\">'Actor1Geo_FullName'</span>: <span style=\"color: #008000; text-decoration-color: #008000\">'Spain'</span>,\n",
       "        <span style=\"color: #008000; text-decoration-color: #008000\">'Actor1Geo_CountryCode'</span>: <span style=\"color: #008000; text-decoration-color: #008000\">'SP'</span>,\n",
       "        <span style=\"color: #008000; text-decoration-color: #008000\">'Actor1Geo_ADM1Code'</span>: <span style=\"color: #008000; text-decoration-color: #008000\">'SP'</span>,\n",
       "        <span style=\"color: #008000; text-decoration-color: #008000\">'Actor1Geo_ADM2Code'</span>: nan,\n",
       "        <span style=\"color: #008000; text-decoration-color: #008000\">'Actor1Geo_Lat'</span>: <span style=\"color: #c0c0c0; text-decoration-color: #c0c0c0\">40.0</span>,\n",
       "        <span style=\"color: #008000; text-decoration-color: #008000\">'Actor1Geo_Long'</span>: <span style=\"color: #c0c0c0; text-decoration-color: #c0c0c0\">-4.0</span>,\n",
       "        <span style=\"color: #008000; text-decoration-color: #008000\">'Actor1Geo_FeatureID'</span>: <span style=\"color: #008000; text-decoration-color: #008000\">'SP'</span>,\n",
       "        <span style=\"color: #008000; text-decoration-color: #008000\">'Actor2Geo_Type'</span>: <span style=\"color: #c0c0c0; text-decoration-color: #c0c0c0\">0</span>,\n",
       "        <span style=\"color: #008000; text-decoration-color: #008000\">'Actor2Geo_FullName'</span>: nan,\n",
       "        <span style=\"color: #008000; text-decoration-color: #008000\">'Actor2Geo_CountryCode'</span>: nan,\n",
       "        <span style=\"color: #008000; text-decoration-color: #008000\">'Actor2Geo_ADM1Code'</span>: nan,\n",
       "        <span style=\"color: #008000; text-decoration-color: #008000\">'Actor2Geo_ADM2Code'</span>: nan,\n",
       "        <span style=\"color: #008000; text-decoration-color: #008000\">'Actor2Geo_Lat'</span>: nan,\n",
       "        <span style=\"color: #008000; text-decoration-color: #008000\">'Actor2Geo_Long'</span>: nan,\n",
       "        <span style=\"color: #008000; text-decoration-color: #008000\">'Actor2Geo_FeatureID'</span>: nan,\n",
       "        <span style=\"color: #008000; text-decoration-color: #008000\">'ActionGeo_Type'</span>: <span style=\"color: #c0c0c0; text-decoration-color: #c0c0c0\">2</span>,\n",
       "        <span style=\"color: #008000; text-decoration-color: #008000\">'ActionGeo_FullName'</span>: <span style=\"color: #008000; text-decoration-color: #008000\">'New York, United States'</span>,\n",
       "        <span style=\"color: #008000; text-decoration-color: #008000\">'ActionGeo_CountryCode'</span>: <span style=\"color: #008000; text-decoration-color: #008000\">'US'</span>,\n",
       "        <span style=\"color: #008000; text-decoration-color: #008000\">'ActionGeo_ADM1Code'</span>: <span style=\"color: #008000; text-decoration-color: #008000\">'USNY'</span>,\n",
       "        <span style=\"color: #008000; text-decoration-color: #008000\">'ActionGeo_ADM2Code'</span>: nan,\n",
       "        <span style=\"color: #008000; text-decoration-color: #008000\">'ActionGeo_Lat'</span>: <span style=\"color: #c0c0c0; text-decoration-color: #c0c0c0\">42.1497</span>,\n",
       "        <span style=\"color: #008000; text-decoration-color: #008000\">'ActionGeo_Long'</span>: <span style=\"color: #c0c0c0; text-decoration-color: #c0c0c0\">-74.9384</span>,\n",
       "        <span style=\"color: #008000; text-decoration-color: #008000\">'ActionGeo_FeatureID'</span>: <span style=\"color: #008000; text-decoration-color: #008000\">'NY'</span>,\n",
       "        <span style=\"color: #008000; text-decoration-color: #008000\">'DATEADDED'</span>: <span style=\"color: #c0c0c0; text-decoration-color: #c0c0c0\">20250827013000</span>,\n",
       "        <span style=\"color: #008000; text-decoration-color: #008000\">'SOURCEURL'</span>: \n",
       "<span style=\"color: #008000; text-decoration-color: #008000\">'https://www.dailymail.co.uk/news/royals/article-15036811/JAN-MOIR-Meghan-second-helping-woman-boasting-hosting-mak</span>\n",
       "<span style=\"color: #008000; text-decoration-color: #008000\">es-curl-edges-like-squid-hot-grill.html'</span>\n",
       "    <span style=\"font-weight: bold\">}</span>,\n",
       "    <span style=\"font-weight: bold\">{</span>\n",
       "        <span style=\"color: #008000; text-decoration-color: #008000\">'Unnamed: 0'</span>: <span style=\"color: #c0c0c0; text-decoration-color: #c0c0c0\">1</span>,\n",
       "        <span style=\"color: #008000; text-decoration-color: #008000\">'GLOBALEVENTID'</span>: <span style=\"color: #c0c0c0; text-decoration-color: #c0c0c0\">1259740627</span>,\n",
       "        <span style=\"color: #008000; text-decoration-color: #008000\">'SQLDATE'</span>: <span style=\"color: #c0c0c0; text-decoration-color: #c0c0c0\">20240827</span>,\n",
       "        <span style=\"color: #008000; text-decoration-color: #008000\">'MonthYear'</span>: <span style=\"color: #c0c0c0; text-decoration-color: #c0c0c0\">202408</span>,\n",
       "        <span style=\"color: #008000; text-decoration-color: #008000\">'Year'</span>: <span style=\"color: #c0c0c0; text-decoration-color: #c0c0c0\">2024</span>,\n",
       "        <span style=\"color: #008000; text-decoration-color: #008000\">'FractionDate'</span>: <span style=\"color: #c0c0c0; text-decoration-color: #c0c0c0\">2024.6493</span>,\n",
       "        <span style=\"color: #008000; text-decoration-color: #008000\">'Actor1Code'</span>: <span style=\"color: #008000; text-decoration-color: #008000\">'MEX'</span>,\n",
       "        <span style=\"color: #008000; text-decoration-color: #008000\">'Actor1Name'</span>: <span style=\"color: #008000; text-decoration-color: #008000\">'MEXICO'</span>,\n",
       "        <span style=\"color: #008000; text-decoration-color: #008000\">'Actor1CountryCode'</span>: <span style=\"color: #008000; text-decoration-color: #008000\">'MEX'</span>,\n",
       "        <span style=\"color: #008000; text-decoration-color: #008000\">'Actor1KnownGroupCode'</span>: nan,\n",
       "        <span style=\"color: #008000; text-decoration-color: #008000\">'Actor1EthnicCode'</span>: nan,\n",
       "        <span style=\"color: #008000; text-decoration-color: #008000\">'Actor1Religion1Code'</span>: nan,\n",
       "        <span style=\"color: #008000; text-decoration-color: #008000\">'Actor1Religion2Code'</span>: nan,\n",
       "        <span style=\"color: #008000; text-decoration-color: #008000\">'Actor1Type1Code'</span>: nan,\n",
       "        <span style=\"color: #008000; text-decoration-color: #008000\">'Actor1Type2Code'</span>: nan,\n",
       "        <span style=\"color: #008000; text-decoration-color: #008000\">'Actor1Type3Code'</span>: nan,\n",
       "        <span style=\"color: #008000; text-decoration-color: #008000\">'Actor2Code'</span>: <span style=\"color: #008000; text-decoration-color: #008000\">'USA'</span>,\n",
       "        <span style=\"color: #008000; text-decoration-color: #008000\">'Actor2Name'</span>: <span style=\"color: #008000; text-decoration-color: #008000\">'UNITED STATES'</span>,\n",
       "        <span style=\"color: #008000; text-decoration-color: #008000\">'Actor2CountryCode'</span>: <span style=\"color: #008000; text-decoration-color: #008000\">'USA'</span>,\n",
       "        <span style=\"color: #008000; text-decoration-color: #008000\">'Actor2KnownGroupCode'</span>: nan,\n",
       "        <span style=\"color: #008000; text-decoration-color: #008000\">'Actor2EthnicCode'</span>: nan,\n",
       "        <span style=\"color: #008000; text-decoration-color: #008000\">'Actor2Religion1Code'</span>: nan,\n",
       "        <span style=\"color: #008000; text-decoration-color: #008000\">'Actor2Religion2Code'</span>: nan,\n",
       "        <span style=\"color: #008000; text-decoration-color: #008000\">'Actor2Type1Code'</span>: nan,\n",
       "        <span style=\"color: #008000; text-decoration-color: #008000\">'Actor2Type2Code'</span>: nan,\n",
       "        <span style=\"color: #008000; text-decoration-color: #008000\">'Actor2Type3Code'</span>: nan,\n",
       "        <span style=\"color: #008000; text-decoration-color: #008000\">'IsRootEvent'</span>: <span style=\"color: #c0c0c0; text-decoration-color: #c0c0c0\">1</span>,\n",
       "        <span style=\"color: #008000; text-decoration-color: #008000\">'EventCode'</span>: <span style=\"color: #c0c0c0; text-decoration-color: #c0c0c0\">10</span>,\n",
       "        <span style=\"color: #008000; text-decoration-color: #008000\">'CAMEOCodeDescription'</span>: <span style=\"color: #008000; text-decoration-color: #008000\">' Make statement, not specified below'</span>,\n",
       "        <span style=\"color: #008000; text-decoration-color: #008000\">'EventBaseCode'</span>: <span style=\"color: #c0c0c0; text-decoration-color: #c0c0c0\">10</span>,\n",
       "        <span style=\"color: #008000; text-decoration-color: #008000\">'EventRootCode'</span>: <span style=\"color: #c0c0c0; text-decoration-color: #c0c0c0\">1</span>,\n",
       "        <span style=\"color: #008000; text-decoration-color: #008000\">'QuadClass'</span>: <span style=\"color: #c0c0c0; text-decoration-color: #c0c0c0\">1</span>,\n",
       "        <span style=\"color: #008000; text-decoration-color: #008000\">'GoldsteinScale'</span>: <span style=\"color: #c0c0c0; text-decoration-color: #c0c0c0\">0.0</span>,\n",
       "        <span style=\"color: #008000; text-decoration-color: #008000\">'NumMentions'</span>: <span style=\"color: #c0c0c0; text-decoration-color: #c0c0c0\">2</span>,\n",
       "        <span style=\"color: #008000; text-decoration-color: #008000\">'NumSources'</span>: <span style=\"color: #c0c0c0; text-decoration-color: #c0c0c0\">1</span>,\n",
       "        <span style=\"color: #008000; text-decoration-color: #008000\">'NumArticles'</span>: <span style=\"color: #c0c0c0; text-decoration-color: #c0c0c0\">2</span>,\n",
       "        <span style=\"color: #008000; text-decoration-color: #008000\">'AvgTone'</span>: <span style=\"color: #c0c0c0; text-decoration-color: #c0c0c0\">2.38693467336684</span>,\n",
       "        <span style=\"color: #008000; text-decoration-color: #008000\">'Actor1Geo_Type'</span>: <span style=\"color: #c0c0c0; text-decoration-color: #c0c0c0\">2</span>,\n",
       "        <span style=\"color: #008000; text-decoration-color: #008000\">'Actor1Geo_FullName'</span>: <span style=\"color: #008000; text-decoration-color: #008000\">'Idaho, United States'</span>,\n",
       "        <span style=\"color: #008000; text-decoration-color: #008000\">'Actor1Geo_CountryCode'</span>: <span style=\"color: #008000; text-decoration-color: #008000\">'US'</span>,\n",
       "        <span style=\"color: #008000; text-decoration-color: #008000\">'Actor1Geo_ADM1Code'</span>: <span style=\"color: #008000; text-decoration-color: #008000\">'USID'</span>,\n",
       "        <span style=\"color: #008000; text-decoration-color: #008000\">'Actor1Geo_ADM2Code'</span>: nan,\n",
       "        <span style=\"color: #008000; text-decoration-color: #008000\">'Actor1Geo_Lat'</span>: <span style=\"color: #c0c0c0; text-decoration-color: #c0c0c0\">44.2394</span>,\n",
       "        <span style=\"color: #008000; text-decoration-color: #008000\">'Actor1Geo_Long'</span>: <span style=\"color: #c0c0c0; text-decoration-color: #c0c0c0\">-114.51</span>,\n",
       "        <span style=\"color: #008000; text-decoration-color: #008000\">'Actor1Geo_FeatureID'</span>: <span style=\"color: #008000; text-decoration-color: #008000\">'ID'</span>,\n",
       "        <span style=\"color: #008000; text-decoration-color: #008000\">'Actor2Geo_Type'</span>: <span style=\"color: #c0c0c0; text-decoration-color: #c0c0c0\">2</span>,\n",
       "        <span style=\"color: #008000; text-decoration-color: #008000\">'Actor2Geo_FullName'</span>: <span style=\"color: #008000; text-decoration-color: #008000\">'New York, United States'</span>,\n",
       "        <span style=\"color: #008000; text-decoration-color: #008000\">'Actor2Geo_CountryCode'</span>: <span style=\"color: #008000; text-decoration-color: #008000\">'US'</span>,\n",
       "        <span style=\"color: #008000; text-decoration-color: #008000\">'Actor2Geo_ADM1Code'</span>: <span style=\"color: #008000; text-decoration-color: #008000\">'USNY'</span>,\n",
       "        <span style=\"color: #008000; text-decoration-color: #008000\">'Actor2Geo_ADM2Code'</span>: nan,\n",
       "        <span style=\"color: #008000; text-decoration-color: #008000\">'Actor2Geo_Lat'</span>: <span style=\"color: #c0c0c0; text-decoration-color: #c0c0c0\">42.1497</span>,\n",
       "        <span style=\"color: #008000; text-decoration-color: #008000\">'Actor2Geo_Long'</span>: <span style=\"color: #c0c0c0; text-decoration-color: #c0c0c0\">-74.9384</span>,\n",
       "        <span style=\"color: #008000; text-decoration-color: #008000\">'Actor2Geo_FeatureID'</span>: <span style=\"color: #008000; text-decoration-color: #008000\">'NY'</span>,\n",
       "        <span style=\"color: #008000; text-decoration-color: #008000\">'ActionGeo_Type'</span>: <span style=\"color: #c0c0c0; text-decoration-color: #c0c0c0\">2</span>,\n",
       "        <span style=\"color: #008000; text-decoration-color: #008000\">'ActionGeo_FullName'</span>: <span style=\"color: #008000; text-decoration-color: #008000\">'Idaho, United States'</span>,\n",
       "        <span style=\"color: #008000; text-decoration-color: #008000\">'ActionGeo_CountryCode'</span>: <span style=\"color: #008000; text-decoration-color: #008000\">'US'</span>,\n",
       "        <span style=\"color: #008000; text-decoration-color: #008000\">'ActionGeo_ADM1Code'</span>: <span style=\"color: #008000; text-decoration-color: #008000\">'USID'</span>,\n",
       "        <span style=\"color: #008000; text-decoration-color: #008000\">'ActionGeo_ADM2Code'</span>: nan,\n",
       "        <span style=\"color: #008000; text-decoration-color: #008000\">'ActionGeo_Lat'</span>: <span style=\"color: #c0c0c0; text-decoration-color: #c0c0c0\">44.2394</span>,\n",
       "        <span style=\"color: #008000; text-decoration-color: #008000\">'ActionGeo_Long'</span>: <span style=\"color: #c0c0c0; text-decoration-color: #c0c0c0\">-114.51</span>,\n",
       "        <span style=\"color: #008000; text-decoration-color: #008000\">'ActionGeo_FeatureID'</span>: <span style=\"color: #008000; text-decoration-color: #008000\">'ID'</span>,\n",
       "        <span style=\"color: #008000; text-decoration-color: #008000\">'DATEADDED'</span>: <span style=\"color: #c0c0c0; text-decoration-color: #c0c0c0\">20250827013000</span>,\n",
       "        <span style=\"color: #008000; text-decoration-color: #008000\">'SOURCEURL'</span>: <span style=\"color: #008000; text-decoration-color: #008000\">'https://www.sltrib.com/news/2025/08/26/crumbl-cookies-sawyer-hemsley-ive/'</span>\n",
       "    <span style=\"font-weight: bold\">}</span>\n",
       "<span style=\"font-weight: bold\">]</span>\n",
       "</pre>\n"
      ]
     },
     "metadata": {},
     "output_type": "display_data"
    }
   ],
   "execution_count": 32
  },
  {
   "metadata": {
    "ExecuteTime": {
     "end_time": "2025-08-27T14:11:54.536425Z",
     "start_time": "2025-08-27T14:11:33.018406Z"
    }
   },
   "cell_type": "code",
   "source": [
    "from qdrant_client import models, QdrantClient\n",
    "from sentence_transformers import SentenceTransformer\n",
    "\n",
    "# create the vector database client\n",
    "qdrant = QdrantClient(\":memory:\") # Create in-memory Qdrant instance\n",
    "\n",
    "# create the embedding encoder LLM\n",
    "encoder = SentenceTransformer('all-MiniLM-L6-v2')"
   ],
   "id": "3cf36fda74e5e233",
   "outputs": [
    {
     "name": "stdout",
     "output_type": "stream",
     "text": [
      "WARNING:tensorflow:From C:\\Users\\powen\\PycharmProjects\\AI-Sandbox\\venv-3.10.10\\lib\\site-packages\\tf_keras\\src\\losses.py:2976: The name tf.losses.sparse_softmax_cross_entropy is deprecated. Please use tf.compat.v1.losses.sparse_softmax_cross_entropy instead.\n",
      "\n"
     ]
    }
   ],
   "execution_count": 5
  },
  {
   "metadata": {
    "ExecuteTime": {
     "end_time": "2025-08-27T14:11:54.585605Z",
     "start_time": "2025-08-27T14:11:54.558112Z"
    }
   },
   "cell_type": "code",
   "source": [
    "# name the collection\n",
    "collection_name=\"gdelt\"\n",
    "\n",
    "# create the collection to store the gdelt data\n",
    "qdrant.recreate_collection(\n",
    "    collection_name=collection_name,\n",
    "    vectors_config=models.VectorParams(\n",
    "        size=encoder.get_sentence_embedding_dimension(), # Vector size is defined by used model\n",
    "        distance=models.Distance.COSINE\n",
    "    )\n",
    ")"
   ],
   "id": "a5f97b84664c372",
   "outputs": [
    {
     "data": {
      "text/plain": [
       "True"
      ]
     },
     "execution_count": 6,
     "metadata": {},
     "output_type": "execute_result"
    }
   ],
   "execution_count": 6
  },
  {
   "metadata": {
    "ExecuteTime": {
     "end_time": "2025-08-27T14:39:02.931925Z",
     "start_time": "2025-08-27T14:11:54.597094Z"
    }
   },
   "cell_type": "code",
   "source": [
    "from codetiming import Timer\n",
    "\n",
    "with Timer(name='qdrant_upload', text=\"GDELT data points uploaded in {:.2f}s\"):\n",
    "    # load the vector DB\n",
    "    qdrant.upload_points(\n",
    "        collection_name=collection_name,\n",
    "        points=[\n",
    "            models.PointStruct(\n",
    "                id=idx,\n",
    "                vector=encoder.encode(doc[\"CAMEOCodeDescription\"]).tolist(),\n",
    "                payload=doc\n",
    "            ) for idx, doc in enumerate(data)\n",
    "        ]\n",
    "    )"
   ],
   "id": "65e4e7c493ed9201",
   "outputs": [
    {
     "name": "stdout",
     "output_type": "stream",
     "text": [
      "GDELT data points uploaded in 1628.30s\n"
     ]
    }
   ],
   "execution_count": 7
  },
  {
   "metadata": {
    "ExecuteTime": {
     "end_time": "2025-08-27T14:39:03.072597Z",
     "start_time": "2025-08-27T14:39:03.051663Z"
    }
   },
   "cell_type": "code",
   "source": [
    "# show some stats on the qdrant collection\n",
    "console.print(qdrant.get_collection(collection_name=collection_name))"
   ],
   "id": "a6f3d080c6a65a74",
   "outputs": [
    {
     "data": {
      "text/plain": [
       "\u001B[33mCollectionInfo\u001B[0m\u001B[1m(\u001B[0m\n",
       "    \u001B[38;2;232;125;62mstatus\u001B[0m=\u001B[1m<\u001B[0m\u001B[36mCollectionStatus.GREEN:\u001B[0m\u001B[39m \u001B[0m\u001B[32m'green'\u001B[0m\u001B[39m>,\u001B[0m\n",
       "\u001B[39m    \u001B[0m\u001B[38;2;232;125;62moptimizer_status\u001B[0m\u001B[39m=<OptimizersStatusOneOf.OK: \u001B[0m\u001B[32m'ok'\u001B[0m\u001B[39m>,\u001B[0m\n",
       "\u001B[39m    \u001B[0m\u001B[38;2;232;125;62mvectors_count\u001B[0m\u001B[39m=\u001B[0m\u001B[30mNone\u001B[0m\u001B[39m,\u001B[0m\n",
       "\u001B[39m    \u001B[0m\u001B[38;2;232;125;62mindexed_vectors_count\u001B[0m\u001B[39m=\u001B[0m\u001B[37m0\u001B[0m\u001B[39m,\u001B[0m\n",
       "\u001B[39m    \u001B[0m\u001B[38;2;232;125;62mpoints_count\u001B[0m\u001B[39m=\u001B[0m\u001B[37m136879\u001B[0m\u001B[39m,\u001B[0m\n",
       "\u001B[39m    \u001B[0m\u001B[38;2;232;125;62msegments_count\u001B[0m\u001B[39m=\u001B[0m\u001B[37m1\u001B[0m\u001B[39m,\u001B[0m\n",
       "\u001B[39m    \u001B[0m\u001B[38;2;232;125;62mconfig\u001B[0m\u001B[39m=\u001B[0m\u001B[33mCollectionConfig\u001B[0m\u001B[1;39m(\u001B[0m\n",
       "\u001B[39m        \u001B[0m\u001B[38;2;232;125;62mparams\u001B[0m\u001B[39m=\u001B[0m\u001B[33mCollectionParams\u001B[0m\u001B[1;39m(\u001B[0m\n",
       "\u001B[39m            \u001B[0m\u001B[38;2;232;125;62mvectors\u001B[0m\u001B[39m=\u001B[0m\u001B[33mVectorParams\u001B[0m\u001B[1;39m(\u001B[0m\n",
       "\u001B[39m                \u001B[0m\u001B[38;2;232;125;62msize\u001B[0m\u001B[39m=\u001B[0m\u001B[37m384\u001B[0m\u001B[39m,\u001B[0m\n",
       "\u001B[39m                \u001B[0m\u001B[38;2;232;125;62mdistance\u001B[0m\u001B[39m=<Distance.COSINE: \u001B[0m\u001B[32m'Cosine'\u001B[0m\u001B[1m>\u001B[0m,\n",
       "                \u001B[38;2;232;125;62mhnsw_config\u001B[0m=\u001B[30mNone\u001B[0m,\n",
       "                \u001B[38;2;232;125;62mquantization_config\u001B[0m=\u001B[30mNone\u001B[0m,\n",
       "                \u001B[38;2;232;125;62mon_disk\u001B[0m=\u001B[30mNone\u001B[0m,\n",
       "                \u001B[38;2;232;125;62mdatatype\u001B[0m=\u001B[30mNone\u001B[0m,\n",
       "                \u001B[38;2;232;125;62mmultivector_config\u001B[0m=\u001B[30mNone\u001B[0m\n",
       "            \u001B[1m)\u001B[0m,\n",
       "            \u001B[38;2;232;125;62mshard_number\u001B[0m=\u001B[30mNone\u001B[0m,\n",
       "            \u001B[38;2;232;125;62msharding_method\u001B[0m=\u001B[30mNone\u001B[0m,\n",
       "            \u001B[38;2;232;125;62mreplication_factor\u001B[0m=\u001B[30mNone\u001B[0m,\n",
       "            \u001B[38;2;232;125;62mwrite_consistency_factor\u001B[0m=\u001B[30mNone\u001B[0m,\n",
       "            \u001B[38;2;232;125;62mread_fan_out_factor\u001B[0m=\u001B[30mNone\u001B[0m,\n",
       "            \u001B[38;2;232;125;62mon_disk_payload\u001B[0m=\u001B[30mNone\u001B[0m,\n",
       "            \u001B[38;2;232;125;62msparse_vectors\u001B[0m=\u001B[30mNone\u001B[0m\n",
       "        \u001B[1m)\u001B[0m,\n",
       "        \u001B[38;2;232;125;62mhnsw_config\u001B[0m=\u001B[33mHnswConfig\u001B[0m\u001B[1m(\u001B[0m\n",
       "            \u001B[38;2;232;125;62mm\u001B[0m=\u001B[37m16\u001B[0m,\n",
       "            \u001B[38;2;232;125;62mef_construct\u001B[0m=\u001B[37m100\u001B[0m,\n",
       "            \u001B[38;2;232;125;62mfull_scan_threshold\u001B[0m=\u001B[37m10000\u001B[0m,\n",
       "            \u001B[38;2;232;125;62mmax_indexing_threads\u001B[0m=\u001B[37m0\u001B[0m,\n",
       "            \u001B[38;2;232;125;62mon_disk\u001B[0m=\u001B[30mNone\u001B[0m,\n",
       "            \u001B[38;2;232;125;62mpayload_m\u001B[0m=\u001B[30mNone\u001B[0m\n",
       "        \u001B[1m)\u001B[0m,\n",
       "        \u001B[38;2;232;125;62moptimizer_config\u001B[0m=\u001B[33mOptimizersConfig\u001B[0m\u001B[1m(\u001B[0m\n",
       "            \u001B[38;2;232;125;62mdeleted_threshold\u001B[0m=\u001B[37m0\u001B[0m\u001B[37m.2\u001B[0m,\n",
       "            \u001B[38;2;232;125;62mvacuum_min_vector_number\u001B[0m=\u001B[37m1000\u001B[0m,\n",
       "            \u001B[38;2;232;125;62mdefault_segment_number\u001B[0m=\u001B[37m0\u001B[0m,\n",
       "            \u001B[38;2;232;125;62mmax_segment_size\u001B[0m=\u001B[30mNone\u001B[0m,\n",
       "            \u001B[38;2;232;125;62mmemmap_threshold\u001B[0m=\u001B[30mNone\u001B[0m,\n",
       "            \u001B[38;2;232;125;62mindexing_threshold\u001B[0m=\u001B[37m20000\u001B[0m,\n",
       "            \u001B[38;2;232;125;62mflush_interval_sec\u001B[0m=\u001B[37m5\u001B[0m,\n",
       "            \u001B[38;2;232;125;62mmax_optimization_threads\u001B[0m=\u001B[37m1\u001B[0m\n",
       "        \u001B[1m)\u001B[0m,\n",
       "        \u001B[38;2;232;125;62mwal_config\u001B[0m=\u001B[33mWalConfig\u001B[0m\u001B[1m(\u001B[0m\u001B[38;2;232;125;62mwal_capacity_mb\u001B[0m=\u001B[37m32\u001B[0m, \u001B[38;2;232;125;62mwal_segments_ahead\u001B[0m=\u001B[37m0\u001B[0m\u001B[1m)\u001B[0m,\n",
       "        \u001B[38;2;232;125;62mquantization_config\u001B[0m=\u001B[30mNone\u001B[0m,\n",
       "        \u001B[38;2;232;125;62mstrict_mode_config\u001B[0m=\u001B[30mNone\u001B[0m\n",
       "    \u001B[1m)\u001B[0m,\n",
       "    \u001B[38;2;232;125;62mpayload_schema\u001B[0m=\u001B[1m{\u001B[0m\u001B[1m}\u001B[0m\n",
       "\u001B[1m)\u001B[0m\n"
      ],
      "text/html": [
       "<pre style=\"white-space:pre;overflow-x:auto;line-height:normal;font-family:Menlo,'DejaVu Sans Mono',consolas,'Courier New',monospace\"><span style=\"color: #808000; text-decoration-color: #808000\">CollectionInfo</span><span style=\"font-weight: bold\">(</span>\n",
       "    <span style=\"color: #e87d3e; text-decoration-color: #e87d3e\">status</span>=<span style=\"font-weight: bold\">&lt;</span><span style=\"color: #008080; text-decoration-color: #008080\">CollectionStatus.GREEN:</span><span style=\"color: #000000; text-decoration-color: #000000\"> </span><span style=\"color: #008000; text-decoration-color: #008000\">'green'</span><span style=\"color: #000000; text-decoration-color: #000000\">&gt;,</span>\n",
       "<span style=\"color: #000000; text-decoration-color: #000000\">    </span><span style=\"color: #e87d3e; text-decoration-color: #e87d3e\">optimizer_status</span><span style=\"color: #000000; text-decoration-color: #000000\">=&lt;OptimizersStatusOneOf.OK: </span><span style=\"color: #008000; text-decoration-color: #008000\">'ok'</span><span style=\"color: #000000; text-decoration-color: #000000\">&gt;,</span>\n",
       "<span style=\"color: #000000; text-decoration-color: #000000\">    </span><span style=\"color: #e87d3e; text-decoration-color: #e87d3e\">vectors_count</span><span style=\"color: #000000; text-decoration-color: #000000\">=</span><span style=\"color: #000000; text-decoration-color: #000000\">None</span><span style=\"color: #000000; text-decoration-color: #000000\">,</span>\n",
       "<span style=\"color: #000000; text-decoration-color: #000000\">    </span><span style=\"color: #e87d3e; text-decoration-color: #e87d3e\">indexed_vectors_count</span><span style=\"color: #000000; text-decoration-color: #000000\">=</span><span style=\"color: #c0c0c0; text-decoration-color: #c0c0c0\">0</span><span style=\"color: #000000; text-decoration-color: #000000\">,</span>\n",
       "<span style=\"color: #000000; text-decoration-color: #000000\">    </span><span style=\"color: #e87d3e; text-decoration-color: #e87d3e\">points_count</span><span style=\"color: #000000; text-decoration-color: #000000\">=</span><span style=\"color: #c0c0c0; text-decoration-color: #c0c0c0\">136879</span><span style=\"color: #000000; text-decoration-color: #000000\">,</span>\n",
       "<span style=\"color: #000000; text-decoration-color: #000000\">    </span><span style=\"color: #e87d3e; text-decoration-color: #e87d3e\">segments_count</span><span style=\"color: #000000; text-decoration-color: #000000\">=</span><span style=\"color: #c0c0c0; text-decoration-color: #c0c0c0\">1</span><span style=\"color: #000000; text-decoration-color: #000000\">,</span>\n",
       "<span style=\"color: #000000; text-decoration-color: #000000\">    </span><span style=\"color: #e87d3e; text-decoration-color: #e87d3e\">config</span><span style=\"color: #000000; text-decoration-color: #000000\">=</span><span style=\"color: #808000; text-decoration-color: #808000\">CollectionConfig</span><span style=\"color: #000000; text-decoration-color: #000000; font-weight: bold\">(</span>\n",
       "<span style=\"color: #000000; text-decoration-color: #000000\">        </span><span style=\"color: #e87d3e; text-decoration-color: #e87d3e\">params</span><span style=\"color: #000000; text-decoration-color: #000000\">=</span><span style=\"color: #808000; text-decoration-color: #808000\">CollectionParams</span><span style=\"color: #000000; text-decoration-color: #000000; font-weight: bold\">(</span>\n",
       "<span style=\"color: #000000; text-decoration-color: #000000\">            </span><span style=\"color: #e87d3e; text-decoration-color: #e87d3e\">vectors</span><span style=\"color: #000000; text-decoration-color: #000000\">=</span><span style=\"color: #808000; text-decoration-color: #808000\">VectorParams</span><span style=\"color: #000000; text-decoration-color: #000000; font-weight: bold\">(</span>\n",
       "<span style=\"color: #000000; text-decoration-color: #000000\">                </span><span style=\"color: #e87d3e; text-decoration-color: #e87d3e\">size</span><span style=\"color: #000000; text-decoration-color: #000000\">=</span><span style=\"color: #c0c0c0; text-decoration-color: #c0c0c0\">384</span><span style=\"color: #000000; text-decoration-color: #000000\">,</span>\n",
       "<span style=\"color: #000000; text-decoration-color: #000000\">                </span><span style=\"color: #e87d3e; text-decoration-color: #e87d3e\">distance</span><span style=\"color: #000000; text-decoration-color: #000000\">=&lt;Distance.COSINE: </span><span style=\"color: #008000; text-decoration-color: #008000\">'Cosine'</span><span style=\"font-weight: bold\">&gt;</span>,\n",
       "                <span style=\"color: #e87d3e; text-decoration-color: #e87d3e\">hnsw_config</span>=<span style=\"color: #000000; text-decoration-color: #000000\">None</span>,\n",
       "                <span style=\"color: #e87d3e; text-decoration-color: #e87d3e\">quantization_config</span>=<span style=\"color: #000000; text-decoration-color: #000000\">None</span>,\n",
       "                <span style=\"color: #e87d3e; text-decoration-color: #e87d3e\">on_disk</span>=<span style=\"color: #000000; text-decoration-color: #000000\">None</span>,\n",
       "                <span style=\"color: #e87d3e; text-decoration-color: #e87d3e\">datatype</span>=<span style=\"color: #000000; text-decoration-color: #000000\">None</span>,\n",
       "                <span style=\"color: #e87d3e; text-decoration-color: #e87d3e\">multivector_config</span>=<span style=\"color: #000000; text-decoration-color: #000000\">None</span>\n",
       "            <span style=\"font-weight: bold\">)</span>,\n",
       "            <span style=\"color: #e87d3e; text-decoration-color: #e87d3e\">shard_number</span>=<span style=\"color: #000000; text-decoration-color: #000000\">None</span>,\n",
       "            <span style=\"color: #e87d3e; text-decoration-color: #e87d3e\">sharding_method</span>=<span style=\"color: #000000; text-decoration-color: #000000\">None</span>,\n",
       "            <span style=\"color: #e87d3e; text-decoration-color: #e87d3e\">replication_factor</span>=<span style=\"color: #000000; text-decoration-color: #000000\">None</span>,\n",
       "            <span style=\"color: #e87d3e; text-decoration-color: #e87d3e\">write_consistency_factor</span>=<span style=\"color: #000000; text-decoration-color: #000000\">None</span>,\n",
       "            <span style=\"color: #e87d3e; text-decoration-color: #e87d3e\">read_fan_out_factor</span>=<span style=\"color: #000000; text-decoration-color: #000000\">None</span>,\n",
       "            <span style=\"color: #e87d3e; text-decoration-color: #e87d3e\">on_disk_payload</span>=<span style=\"color: #000000; text-decoration-color: #000000\">None</span>,\n",
       "            <span style=\"color: #e87d3e; text-decoration-color: #e87d3e\">sparse_vectors</span>=<span style=\"color: #000000; text-decoration-color: #000000\">None</span>\n",
       "        <span style=\"font-weight: bold\">)</span>,\n",
       "        <span style=\"color: #e87d3e; text-decoration-color: #e87d3e\">hnsw_config</span>=<span style=\"color: #808000; text-decoration-color: #808000\">HnswConfig</span><span style=\"font-weight: bold\">(</span>\n",
       "            <span style=\"color: #e87d3e; text-decoration-color: #e87d3e\">m</span>=<span style=\"color: #c0c0c0; text-decoration-color: #c0c0c0\">16</span>,\n",
       "            <span style=\"color: #e87d3e; text-decoration-color: #e87d3e\">ef_construct</span>=<span style=\"color: #c0c0c0; text-decoration-color: #c0c0c0\">100</span>,\n",
       "            <span style=\"color: #e87d3e; text-decoration-color: #e87d3e\">full_scan_threshold</span>=<span style=\"color: #c0c0c0; text-decoration-color: #c0c0c0\">10000</span>,\n",
       "            <span style=\"color: #e87d3e; text-decoration-color: #e87d3e\">max_indexing_threads</span>=<span style=\"color: #c0c0c0; text-decoration-color: #c0c0c0\">0</span>,\n",
       "            <span style=\"color: #e87d3e; text-decoration-color: #e87d3e\">on_disk</span>=<span style=\"color: #000000; text-decoration-color: #000000\">None</span>,\n",
       "            <span style=\"color: #e87d3e; text-decoration-color: #e87d3e\">payload_m</span>=<span style=\"color: #000000; text-decoration-color: #000000\">None</span>\n",
       "        <span style=\"font-weight: bold\">)</span>,\n",
       "        <span style=\"color: #e87d3e; text-decoration-color: #e87d3e\">optimizer_config</span>=<span style=\"color: #808000; text-decoration-color: #808000\">OptimizersConfig</span><span style=\"font-weight: bold\">(</span>\n",
       "            <span style=\"color: #e87d3e; text-decoration-color: #e87d3e\">deleted_threshold</span>=<span style=\"color: #c0c0c0; text-decoration-color: #c0c0c0\">0.2</span>,\n",
       "            <span style=\"color: #e87d3e; text-decoration-color: #e87d3e\">vacuum_min_vector_number</span>=<span style=\"color: #c0c0c0; text-decoration-color: #c0c0c0\">1000</span>,\n",
       "            <span style=\"color: #e87d3e; text-decoration-color: #e87d3e\">default_segment_number</span>=<span style=\"color: #c0c0c0; text-decoration-color: #c0c0c0\">0</span>,\n",
       "            <span style=\"color: #e87d3e; text-decoration-color: #e87d3e\">max_segment_size</span>=<span style=\"color: #000000; text-decoration-color: #000000\">None</span>,\n",
       "            <span style=\"color: #e87d3e; text-decoration-color: #e87d3e\">memmap_threshold</span>=<span style=\"color: #000000; text-decoration-color: #000000\">None</span>,\n",
       "            <span style=\"color: #e87d3e; text-decoration-color: #e87d3e\">indexing_threshold</span>=<span style=\"color: #c0c0c0; text-decoration-color: #c0c0c0\">20000</span>,\n",
       "            <span style=\"color: #e87d3e; text-decoration-color: #e87d3e\">flush_interval_sec</span>=<span style=\"color: #c0c0c0; text-decoration-color: #c0c0c0\">5</span>,\n",
       "            <span style=\"color: #e87d3e; text-decoration-color: #e87d3e\">max_optimization_threads</span>=<span style=\"color: #c0c0c0; text-decoration-color: #c0c0c0\">1</span>\n",
       "        <span style=\"font-weight: bold\">)</span>,\n",
       "        <span style=\"color: #e87d3e; text-decoration-color: #e87d3e\">wal_config</span>=<span style=\"color: #808000; text-decoration-color: #808000\">WalConfig</span><span style=\"font-weight: bold\">(</span><span style=\"color: #e87d3e; text-decoration-color: #e87d3e\">wal_capacity_mb</span>=<span style=\"color: #c0c0c0; text-decoration-color: #c0c0c0\">32</span>, <span style=\"color: #e87d3e; text-decoration-color: #e87d3e\">wal_segments_ahead</span>=<span style=\"color: #c0c0c0; text-decoration-color: #c0c0c0\">0</span><span style=\"font-weight: bold\">)</span>,\n",
       "        <span style=\"color: #e87d3e; text-decoration-color: #e87d3e\">quantization_config</span>=<span style=\"color: #000000; text-decoration-color: #000000\">None</span>,\n",
       "        <span style=\"color: #e87d3e; text-decoration-color: #e87d3e\">strict_mode_config</span>=<span style=\"color: #000000; text-decoration-color: #000000\">None</span>\n",
       "    <span style=\"font-weight: bold\">)</span>,\n",
       "    <span style=\"color: #e87d3e; text-decoration-color: #e87d3e\">payload_schema</span>=<span style=\"font-weight: bold\">{}</span>\n",
       "<span style=\"font-weight: bold\">)</span>\n",
       "</pre>\n"
      ]
     },
     "metadata": {},
     "output_type": "display_data"
    }
   ],
   "execution_count": 8
  },
  {
   "metadata": {
    "ExecuteTime": {
     "end_time": "2025-08-27T14:41:02.466954Z",
     "start_time": "2025-08-27T14:41:02.141614Z"
    }
   },
   "cell_type": "code",
   "source": [
    "# create a question\n",
    "user_prompt = \"who is making endorsements today?\"\n",
    "\n",
    "# get the vectors for the question\n",
    "query_vector = encoder.encode(user_prompt).tolist()\n",
    "\n",
    "# get the results\n",
    "hits = qdrant.search(\n",
    "    collection_name=collection_name,\n",
    "    query_vector=query_vector,\n",
    "    limit=3\n",
    ")"
   ],
   "id": "7bf04e4127fb6900",
   "outputs": [],
   "execution_count": 12
  },
  {
   "metadata": {
    "ExecuteTime": {
     "end_time": "2025-08-27T14:53:00.726822Z",
     "start_time": "2025-08-27T14:53:00.703987Z"
    }
   },
   "cell_type": "code",
   "source": [
    "def format_qdrant_results(results):\n",
    "    \"\"\"\n",
    "    format the results\n",
    "\n",
    "    :param results:\n",
    "    :return:\n",
    "    \"\"\"\n",
    "    formatted = []\n",
    "\n",
    "    # for each result\n",
    "    for res in results:\n",
    "        # create a dict of the results\n",
    "        item = {\n",
    "            'id': res.id,\n",
    "            'score': round(res.score, 3),\n",
    "            'title': res.payload.get('ActionGeo_FullName', 'N/A'),\n",
    "            'category': res.payload.get('CAMEOCodeDescription', 'N/A'),\n",
    "            'url': res.payload.get('SOURCEURL', 'N/A'),\n",
    "            'Actor1Geo_Lat': res.payload.get('Actor1Geo_Lat', 'N/A'),\n",
    "            'Actor1Geo_Long': res.payload.get('Actor1Geo_Long', 'N/A'),\n",
    "            'Actor2Geo_Lat': res.payload.get('Actor2Geo_Lat', 'N/A'),\n",
    "            'Actor2Geo_Long': res.payload.get('Actor2Geo_Long', 'N/A'),\n",
    "        }\n",
    "\n",
    "        # add the formatted data to the list\n",
    "        formatted.append(item)\n",
    "\n",
    "    # return to the caller\n",
    "    return formatted\n",
    "\n",
    "# get the formatted results\n",
    "formatted_results = format_qdrant_results(hits)\n",
    "\n",
    "console.print('Prompt:', user_prompt)\n",
    "\n",
    "# display the results\n",
    "for item in formatted_results:\n",
    "    console.print(f\"ID: {item['id']}, Score: {item['score']}, Title: {item['title']}, Category: {item['category']}, actor 1 lat/long: {item['Actor1Geo_Lat']},{item['Actor1Geo_Long']}, actor 2 lat/long: {item['Actor2Geo_Lat']},{item['Actor2Geo_Long']},[link={item['url']}]Link to the reference[/link]\")\n"
   ],
   "id": "b7bbe44e4118823c",
   "outputs": [
    {
     "data": {
      "text/plain": [
       "Prompt: who is making endorsements today?\n"
      ],
      "text/html": [
       "<pre style=\"white-space:pre;overflow-x:auto;line-height:normal;font-family:Menlo,'DejaVu Sans Mono',consolas,'Courier New',monospace\">Prompt: who is making endorsements today?\n",
       "</pre>\n"
      ]
     },
     "metadata": {},
     "output_type": "display_data"
    },
    {
     "data": {
      "text/plain": [
       "ID: \u001B[37m136770\u001B[0m, Score: \u001B[37m0.44\u001B[0m, Title: Alaska, United States, Category:  Rally support on behalf of, actor \u001B[37m1\u001B[0m lat/long: \n",
       "\u001B[37m61.385\u001B[0m,\u001B[37m-152.268\u001B[0m, actor \u001B[37m2\u001B[0m lat/long: \u001B[37m49.0\u001B[0m,\u001B[37m32.0\u001B[0m,\u001B]8;id=625029;https://alaskapublic.org/news/politics/2025-08-14/12-things-to-know-about-the-historic-trump-putin-meeting-in-anchorage\u001B\\Link to the reference\u001B]8;;\u001B\\\n"
      ],
      "text/html": [
       "<pre style=\"white-space:pre;overflow-x:auto;line-height:normal;font-family:Menlo,'DejaVu Sans Mono',consolas,'Courier New',monospace\">ID: <span style=\"color: #c0c0c0; text-decoration-color: #c0c0c0\">136770</span>, Score: <span style=\"color: #c0c0c0; text-decoration-color: #c0c0c0\">0.44</span>, Title: Alaska, United States, Category:  Rally support on behalf of, actor <span style=\"color: #c0c0c0; text-decoration-color: #c0c0c0\">1</span> lat/long: \n",
       "<span style=\"color: #c0c0c0; text-decoration-color: #c0c0c0\">61.385</span>,<span style=\"color: #c0c0c0; text-decoration-color: #c0c0c0\">-152.268</span>, actor <span style=\"color: #c0c0c0; text-decoration-color: #c0c0c0\">2</span> lat/long: <span style=\"color: #c0c0c0; text-decoration-color: #c0c0c0\">49.0</span>,<span style=\"color: #c0c0c0; text-decoration-color: #c0c0c0\">32.0</span>,<a href=\"https://alaskapublic.org/news/politics/2025-08-14/12-things-to-know-about-the-historic-trump-putin-meeting-in-anchorage\" target=\"_blank\">Link to the reference</a>\n",
       "</pre>\n"
      ]
     },
     "metadata": {},
     "output_type": "display_data"
    },
    {
     "data": {
      "text/plain": [
       "ID: \u001B[37m136769\u001B[0m, Score: \u001B[37m0.44\u001B[0m, Title: Ukraine, Category:  Rally support on behalf of, actor \u001B[37m1\u001B[0m lat/long: \u001B[37m61.2181\u001B[0m,\u001B[37m-149.9\u001B[0m, \n",
       "actor \u001B[37m2\u001B[0m lat/long: \u001B[37m49.0\u001B[0m,\u001B[37m32.0\u001B[0m,\u001B]8;id=31471;https://alaskapublic.org/news/politics/2025-08-14/12-things-to-know-about-the-historic-trump-putin-meeting-in-anchorage\u001B\\Link to the reference\u001B]8;;\u001B\\\n"
      ],
      "text/html": [
       "<pre style=\"white-space:pre;overflow-x:auto;line-height:normal;font-family:Menlo,'DejaVu Sans Mono',consolas,'Courier New',monospace\">ID: <span style=\"color: #c0c0c0; text-decoration-color: #c0c0c0\">136769</span>, Score: <span style=\"color: #c0c0c0; text-decoration-color: #c0c0c0\">0.44</span>, Title: Ukraine, Category:  Rally support on behalf of, actor <span style=\"color: #c0c0c0; text-decoration-color: #c0c0c0\">1</span> lat/long: <span style=\"color: #c0c0c0; text-decoration-color: #c0c0c0\">61.2181</span>,<span style=\"color: #c0c0c0; text-decoration-color: #c0c0c0\">-149.9</span>, \n",
       "actor <span style=\"color: #c0c0c0; text-decoration-color: #c0c0c0\">2</span> lat/long: <span style=\"color: #c0c0c0; text-decoration-color: #c0c0c0\">49.0</span>,<span style=\"color: #c0c0c0; text-decoration-color: #c0c0c0\">32.0</span>,<a href=\"https://alaskapublic.org/news/politics/2025-08-14/12-things-to-know-about-the-historic-trump-putin-meeting-in-anchorage\" target=\"_blank\">Link to the reference</a>\n",
       "</pre>\n"
      ]
     },
     "metadata": {},
     "output_type": "display_data"
    },
    {
     "data": {
      "text/plain": [
       "ID: \u001B[37m57314\u001B[0m, Score: \u001B[37m0.44\u001B[0m, Title: White House, District of Columbia, United States, Category:  Rally support on behalf\n",
       "of, actor \u001B[37m1\u001B[0m lat/long: nan,nan, actor \u001B[37m2\u001B[0m lat/long: \u001B[37m38.8951\u001B[0m,\u001B[37m-77.0364\u001B[0m,\u001B]8;id=209532;https://www.yahoo.com/news/articles/cnn-pundit-fitness-guru-accused-100154476.html\u001B\\Link to the reference\u001B]8;;\u001B\\\n"
      ],
      "text/html": [
       "<pre style=\"white-space:pre;overflow-x:auto;line-height:normal;font-family:Menlo,'DejaVu Sans Mono',consolas,'Courier New',monospace\">ID: <span style=\"color: #c0c0c0; text-decoration-color: #c0c0c0\">57314</span>, Score: <span style=\"color: #c0c0c0; text-decoration-color: #c0c0c0\">0.44</span>, Title: White House, District of Columbia, United States, Category:  Rally support on behalf\n",
       "of, actor <span style=\"color: #c0c0c0; text-decoration-color: #c0c0c0\">1</span> lat/long: nan,nan, actor <span style=\"color: #c0c0c0; text-decoration-color: #c0c0c0\">2</span> lat/long: <span style=\"color: #c0c0c0; text-decoration-color: #c0c0c0\">38.8951</span>,<span style=\"color: #c0c0c0; text-decoration-color: #c0c0c0\">-77.0364</span>,<a href=\"https://www.yahoo.com/news/articles/cnn-pundit-fitness-guru-accused-100154476.html\" target=\"_blank\">Link to the reference</a>\n",
       "</pre>\n"
      ]
     },
     "metadata": {},
     "output_type": "display_data"
    }
   ],
   "execution_count": 29
  }
 ],
 "metadata": {
  "kernelspec": {
   "display_name": "Python 3",
   "language": "python",
   "name": "python3"
  },
  "language_info": {
   "codemirror_mode": {
    "name": "ipython",
    "version": 2
   },
   "file_extension": ".py",
   "mimetype": "text/x-python",
   "name": "python",
   "nbconvert_exporter": "python",
   "pygments_lexer": "ipython2",
   "version": "2.7.6"
  }
 },
 "nbformat": 4,
 "nbformat_minor": 5
}
