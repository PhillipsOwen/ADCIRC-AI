{
 "cells": [
  {
   "cell_type": "code",
   "id": "initial_id",
   "metadata": {
    "collapsed": true,
    "ExecuteTime": {
     "end_time": "2025-08-14T13:32:32.229729Z",
     "start_time": "2025-08-14T13:32:31.988051Z"
    }
   },
   "source": [
    "import requests\n",
    "\n",
    "# Example NOAA gauge station ID (Mississippi River at St. Louis, MO)\n",
    "station_id = \"FPKG1\"\n",
    "\n",
    "url = f'https://api.water.noaa.gov/nwps/v1/gauges/{station_id}'\n",
    "\n",
    "# Fetch data\n",
    "response = requests.get(url)\n",
    "data = response.json()\n",
    "# print(data)\n",
    "\n",
    "# Extract flood thresholds\n",
    "thresholds = data.get(\"flood\", {}).get('categories')\n",
    "print(f\"Station: {data.get('site', {}).get('name')}\")\n",
    "print(\"Flood thresholds (ft):\")\n",
    "print(f\"  Action stage:   {thresholds.get('action')}\")\n",
    "print(f\"  Minor stage:    {thresholds.get('minor')}\")\n",
    "print(f\"  Moderate flood: {thresholds.get('moderate')}\")\n",
    "print(f\"  Major flood:    {thresholds.get('major')}\")\n"
   ],
   "outputs": [
    {
     "name": "stdout",
     "output_type": "stream",
     "text": [
      "Station: None\n",
      "Flood thresholds (ft):\n",
      "  Action stage:   {'stage': 9.2, 'flow': -9999}\n",
      "  Minor stage:    {'stage': 9.5, 'flow': -9999}\n",
      "  Moderate flood: {'stage': 10, 'flow': -9999}\n",
      "  Major flood:    {'stage': 10.5, 'flow': -9999}\n"
     ]
    }
   ],
   "execution_count": 28
  }
 ],
 "metadata": {
  "kernelspec": {
   "display_name": "Python 3",
   "language": "python",
   "name": "python3"
  },
  "language_info": {
   "codemirror_mode": {
    "name": "ipython",
    "version": 2
   },
   "file_extension": ".py",
   "mimetype": "text/x-python",
   "name": "python",
   "nbconvert_exporter": "python",
   "pygments_lexer": "ipython2",
   "version": "2.7.6"
  }
 },
 "nbformat": 4,
 "nbformat_minor": 5
}
