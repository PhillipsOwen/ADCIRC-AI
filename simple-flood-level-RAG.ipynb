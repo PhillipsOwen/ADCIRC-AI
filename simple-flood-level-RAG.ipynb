{
 "cells": [
  {
   "cell_type": "code",
   "id": "initial_id",
   "metadata": {
    "ExecuteTime": {
     "end_time": "2025-08-27T12:47:51.542657Z",
     "start_time": "2025-08-27T12:47:51.394688Z"
    }
   },
   "source": [
    "from rich.console import Console\n",
    "from rich_theme_manager import ThemeManager\n",
    "import pathlib\n",
    "import warnings\n",
    "\"\"\"\n",
    "This is a simple RAG that:\n",
    " - gets mocked up data from the APSViz DB\n",
    " - embeds sentence transformer vectors into a qdrant vector DB\n",
    " - uses a mini-LLM for NLM.\n",
    "\"\"\"\n",
    "from dotenv import load_dotenv\n",
    "import os\n",
    "import psycopg2\n",
    "\n",
    "# load the secret DB credentials\n",
    "load_dotenv()\n",
    "\n",
    "# load the theme\n",
    "theme_dir = pathlib.Path(\"themes\")\n",
    "theme_manager = ThemeManager(theme_dir=theme_dir)\n",
    "dark = theme_manager.get(\"dark\")\n",
    "\n",
    "# create a console with the dark theme\n",
    "console = Console(theme=dark)\n",
    "\n",
    "# suppress warnings\n",
    "warnings.filterwarnings('ignore')"
   ],
   "outputs": [],
   "execution_count": 1
  },
  {
   "metadata": {
    "ExecuteTime": {
     "end_time": "2025-08-27T12:47:51.563036Z",
     "start_time": "2025-08-27T12:47:51.544219Z"
    }
   },
   "cell_type": "code",
   "source": [
    "def run_query(query):\n",
    "    \"\"\"\n",
    "    runs a query against the APSViz DB.\n",
    "\n",
    "    Note this notebook expects localhost to be connected to a postgres DB.\n",
    "    :param query:\n",
    "    :return:\n",
    "    \"\"\"\n",
    "    # Database connection parameters\n",
    "    connection = psycopg2.connect(dbname=\"apsviz\", user=os.getenv(\"PG_USER\"), password=os.getenv(\"PG_USER\"), host=\"localhost\", port=\"5432\")\n",
    "\n",
    "    results = None\n",
    "\n",
    "    with connection.cursor() as cursor:\n",
    "        try:\n",
    "            # Create a cursor object\n",
    "            cursor = connection.cursor()\n",
    "\n",
    "            # Execute an SQL query\n",
    "            cursor.execute(query)\n",
    "\n",
    "            # Fetch and print results\n",
    "            results = cursor.fetchall()\n",
    "\n",
    "        except Exception as e:\n",
    "            print(\"An error occurred:\", e)\n",
    "\n",
    "        finally:\n",
    "            # Close the cursor and connection\n",
    "            cursor.close()\n",
    "            connection.close()\n",
    "\n",
    "    return results[0][0]"
   ],
   "id": "84d3b72b95b2aaf1",
   "outputs": [],
   "execution_count": 2
  },
  {
   "metadata": {
    "ExecuteTime": {
     "end_time": "2025-08-27T12:47:51.851214Z",
     "start_time": "2025-08-27T12:47:51.571827Z"
    }
   },
   "cell_type": "code",
   "source": [
    "# create the SQL and get mocked up data from the DB.\n",
    "# note we are converting number values to feet.\n",
    "query = \"\"\"\n",
    "            SELECT json_agg(row_to_json(t))\n",
    "            FROM (\n",
    "                SELECT station_id, abbrev, name, lon, lat,\n",
    "                CASE WHEN nos_minor IS NOT NULL THEN (nos_minor * 3.28084) ELSE NULL END AS nos_minor,\n",
    "                CASE WHEN nos_moderate IS NOT NULL THEN (nos_moderate * 3.28084) ELSE NULL END AS nos_moderate,\n",
    "                CASE WHEN nos_major IS NOT NULL THEN (nos_major * 3.28084) ELSE NULL END AS nos_major,\n",
    "                CASE WHEN nws_minor IS NOT NULL THEN (nws_minor * 3.28084) ELSE NULL END AS nws_minor,\n",
    "                CASE WHEN nws_moderate IS NOT NULL THEN (nws_moderate * 3.28084) ELSE NULL END AS nws_moderate,\n",
    "                CASE WHEN nws_major IS NOT NULL THEN (nws_major * 3.28084) ELSE NULL END AS nws_major,\n",
    "                FLOOR(random() * 5 + 1)::INT AS current_level\n",
    "                FROM noaa_station_levels\n",
    "                ORDER BY name\n",
    "            ) t ;\n",
    "        \"\"\"\n",
    "# get the station data\n",
    "stations = run_query(query)"
   ],
   "id": "572bb3c47d5921e5",
   "outputs": [],
   "execution_count": 3
  },
  {
   "metadata": {
    "ExecuteTime": {
     "end_time": "2025-08-27T12:47:51.873360Z",
     "start_time": "2025-08-27T12:47:51.857735Z"
    }
   },
   "cell_type": "code",
   "source": [
    "def get_flood_stage(values):\n",
    "    \"\"\"\n",
    "    Gets the flood stage based on the station data\n",
    "    Note \"current_data\" is a random number (1 to 5) already generated in the data\n",
    "    \"\"\"\n",
    "    if ((values['nos_major'] and values['nos_major'] - values['current_level'] < 0) or\n",
    "        (values['nws_major'] and values['nws_major'] - values['current_level'] < 0)):\n",
    "        return 'major flooding'\n",
    "    elif ((values['nos_moderate'] and values['nos_moderate'] - values['current_level'] < 0) or\n",
    "          (values['nws_moderate'] and values['nws_moderate'] - values['current_level'] < 0)):\n",
    "        return 'moderate flooding'\n",
    "    elif ((values['nos_minor'] and values['nos_minor'] - values['current_level'] < 0) or\n",
    "          (values['nws_minor'] and values['nws_minor'] - values['current_level'] < 0)):\n",
    "        return 'minor flooding'\n",
    "    else:\n",
    "        return 'no flooding'\n"
   ],
   "id": "155d82df663ec32d",
   "outputs": [],
   "execution_count": 4
  },
  {
   "metadata": {
    "ExecuteTime": {
     "end_time": "2025-08-27T12:48:14.659420Z",
     "start_time": "2025-08-27T12:47:51.884144Z"
    }
   },
   "cell_type": "code",
   "source": [
    "from qdrant_client import models, QdrantClient\n",
    "from qdrant_client.models import VectorParams, PointStruct, Filter, FieldCondition, Range\n",
    "from sentence_transformers import SentenceTransformer\n",
    "\n",
    "\"\"\"\n",
    "Create and load a vector DB with encoded sentence vectors with the stations data\n",
    "\n",
    "\"\"\"\n",
    "# get a vector DB and a sentence transformer\n",
    "qdrant = QdrantClient(\":memory:\")\n",
    "encoder = SentenceTransformer(\"sentence-transformers/all-MiniLM-L6-v2\") #all-MiniLM-L6-v2 paraphrase-multilingual-MiniLM-L12-v2\n",
    "\n",
    "# Create collection with vector size\n",
    "qdrant.recreate_collection(collection_name=\"stations\", vectors_config=VectorParams(size=encoder.get_sentence_embedding_dimension(), distance=models.Distance.COSINE))"
   ],
   "id": "b574f61b613f89c9",
   "outputs": [
    {
     "name": "stdout",
     "output_type": "stream",
     "text": [
      "WARNING:tensorflow:From C:\\Users\\powen\\PycharmProjects\\AI-Sandbox\\venv-3.10.10\\lib\\site-packages\\tf_keras\\src\\losses.py:2976: The name tf.losses.sparse_softmax_cross_entropy is deprecated. Please use tf.compat.v1.losses.sparse_softmax_cross_entropy instead.\n",
      "\n"
     ]
    },
    {
     "data": {
      "text/plain": [
       "True"
      ]
     },
     "execution_count": 5,
     "metadata": {},
     "output_type": "execute_result"
    }
   ],
   "execution_count": 5
  },
  {
   "metadata": {
    "ExecuteTime": {
     "end_time": "2025-08-27T12:48:17.151138Z",
     "start_time": "2025-08-27T12:48:14.779388Z"
    }
   },
   "cell_type": "code",
   "source": [
    "# array for data points\n",
    "points = []\n",
    "\n",
    "# create an embedded vector for each station\n",
    "for item in stations:\n",
    "    # get the flood stage based on the data\n",
    "    flood_stage = get_flood_stage(item)\n",
    "\n",
    "    # use the flooding level and encode it\n",
    "    encoded = encoder.encode(flood_stage)\n",
    "\n",
    "    # convert to a encoded vector list\n",
    "    embedding = encoded.tolist()\n",
    "\n",
    "    # create the data points\n",
    "    points.append(\n",
    "        PointStruct(id=item[\"station_id\"], vector=embedding,\n",
    "                    payload={\n",
    "                        \"station_id\": item[\"station_id\"],\n",
    "                        \"abbrev\": item[\"abbrev\"],\n",
    "                        \"name\": item[\"name\"],\n",
    "                        \"lon\": item[\"lon\"], \"lat\": item[\"lat\"],\n",
    "                        \"nos_minor\": item['nos_minor'],\n",
    "                        \"nos_moderate\": item['nos_moderate'],\n",
    "                        \"nos_major\": item['nos_major'],\n",
    "                        \"nws_minor\": item['nws_minor'],\n",
    "                        \"nws_moderate\": item['nws_moderate'],\n",
    "                        \"nws_major\": item['nws_major'],\n",
    "                        \"current_level\": item[\"current_level\"],\n",
    "                        \"flooded\": flood_stage}\n",
    "        )\n",
    "    )"
   ],
   "id": "28a7d0bab7a26a9b",
   "outputs": [],
   "execution_count": 6
  },
  {
   "metadata": {
    "ExecuteTime": {
     "end_time": "2025-08-27T12:48:17.366571Z",
     "start_time": "2025-08-27T12:48:17.201321Z"
    }
   },
   "cell_type": "code",
   "source": [
    "# load the data points\n",
    "qdrant.upsert(collection_name=\"stations\", points=points)"
   ],
   "id": "9d4d00e53ca928ac",
   "outputs": [
    {
     "data": {
      "text/plain": [
       "UpdateResult(operation_id=0, status=<UpdateStatus.COMPLETED: 'completed'>)"
      ]
     },
     "execution_count": 7,
     "metadata": {},
     "output_type": "execute_result"
    }
   ],
   "execution_count": 7
  },
  {
   "metadata": {
    "ExecuteTime": {
     "end_time": "2025-08-27T12:48:17.429707Z",
     "start_time": "2025-08-27T12:48:17.390708Z"
    }
   },
   "cell_type": "code",
   "source": [
    "# show some stats on the qdrant collection\n",
    "console.print(qdrant.get_collection(collection_name=\"stations\"))"
   ],
   "id": "e709b672f92ee9b0",
   "outputs": [
    {
     "data": {
      "text/plain": [
       "\u001B[33mCollectionInfo\u001B[0m\u001B[1m(\u001B[0m\n",
       "    \u001B[38;2;232;125;62mstatus\u001B[0m=\u001B[1m<\u001B[0m\u001B[36mCollectionStatus.GREEN:\u001B[0m\u001B[39m \u001B[0m\u001B[32m'green'\u001B[0m\u001B[39m>,\u001B[0m\n",
       "\u001B[39m    \u001B[0m\u001B[38;2;232;125;62moptimizer_status\u001B[0m\u001B[39m=<OptimizersStatusOneOf.OK: \u001B[0m\u001B[32m'ok'\u001B[0m\u001B[39m>,\u001B[0m\n",
       "\u001B[39m    \u001B[0m\u001B[38;2;232;125;62mvectors_count\u001B[0m\u001B[39m=\u001B[0m\u001B[30mNone\u001B[0m\u001B[39m,\u001B[0m\n",
       "\u001B[39m    \u001B[0m\u001B[38;2;232;125;62mindexed_vectors_count\u001B[0m\u001B[39m=\u001B[0m\u001B[37m0\u001B[0m\u001B[39m,\u001B[0m\n",
       "\u001B[39m    \u001B[0m\u001B[38;2;232;125;62mpoints_count\u001B[0m\u001B[39m=\u001B[0m\u001B[37m162\u001B[0m\u001B[39m,\u001B[0m\n",
       "\u001B[39m    \u001B[0m\u001B[38;2;232;125;62msegments_count\u001B[0m\u001B[39m=\u001B[0m\u001B[37m1\u001B[0m\u001B[39m,\u001B[0m\n",
       "\u001B[39m    \u001B[0m\u001B[38;2;232;125;62mconfig\u001B[0m\u001B[39m=\u001B[0m\u001B[33mCollectionConfig\u001B[0m\u001B[1;39m(\u001B[0m\n",
       "\u001B[39m        \u001B[0m\u001B[38;2;232;125;62mparams\u001B[0m\u001B[39m=\u001B[0m\u001B[33mCollectionParams\u001B[0m\u001B[1;39m(\u001B[0m\n",
       "\u001B[39m            \u001B[0m\u001B[38;2;232;125;62mvectors\u001B[0m\u001B[39m=\u001B[0m\u001B[33mVectorParams\u001B[0m\u001B[1;39m(\u001B[0m\n",
       "\u001B[39m                \u001B[0m\u001B[38;2;232;125;62msize\u001B[0m\u001B[39m=\u001B[0m\u001B[37m384\u001B[0m\u001B[39m,\u001B[0m\n",
       "\u001B[39m                \u001B[0m\u001B[38;2;232;125;62mdistance\u001B[0m\u001B[39m=<Distance.COSINE: \u001B[0m\u001B[32m'Cosine'\u001B[0m\u001B[1m>\u001B[0m,\n",
       "                \u001B[38;2;232;125;62mhnsw_config\u001B[0m=\u001B[30mNone\u001B[0m,\n",
       "                \u001B[38;2;232;125;62mquantization_config\u001B[0m=\u001B[30mNone\u001B[0m,\n",
       "                \u001B[38;2;232;125;62mon_disk\u001B[0m=\u001B[30mNone\u001B[0m,\n",
       "                \u001B[38;2;232;125;62mdatatype\u001B[0m=\u001B[30mNone\u001B[0m,\n",
       "                \u001B[38;2;232;125;62mmultivector_config\u001B[0m=\u001B[30mNone\u001B[0m\n",
       "            \u001B[1m)\u001B[0m,\n",
       "            \u001B[38;2;232;125;62mshard_number\u001B[0m=\u001B[30mNone\u001B[0m,\n",
       "            \u001B[38;2;232;125;62msharding_method\u001B[0m=\u001B[30mNone\u001B[0m,\n",
       "            \u001B[38;2;232;125;62mreplication_factor\u001B[0m=\u001B[30mNone\u001B[0m,\n",
       "            \u001B[38;2;232;125;62mwrite_consistency_factor\u001B[0m=\u001B[30mNone\u001B[0m,\n",
       "            \u001B[38;2;232;125;62mread_fan_out_factor\u001B[0m=\u001B[30mNone\u001B[0m,\n",
       "            \u001B[38;2;232;125;62mon_disk_payload\u001B[0m=\u001B[30mNone\u001B[0m,\n",
       "            \u001B[38;2;232;125;62msparse_vectors\u001B[0m=\u001B[30mNone\u001B[0m\n",
       "        \u001B[1m)\u001B[0m,\n",
       "        \u001B[38;2;232;125;62mhnsw_config\u001B[0m=\u001B[33mHnswConfig\u001B[0m\u001B[1m(\u001B[0m\n",
       "            \u001B[38;2;232;125;62mm\u001B[0m=\u001B[37m16\u001B[0m,\n",
       "            \u001B[38;2;232;125;62mef_construct\u001B[0m=\u001B[37m100\u001B[0m,\n",
       "            \u001B[38;2;232;125;62mfull_scan_threshold\u001B[0m=\u001B[37m10000\u001B[0m,\n",
       "            \u001B[38;2;232;125;62mmax_indexing_threads\u001B[0m=\u001B[37m0\u001B[0m,\n",
       "            \u001B[38;2;232;125;62mon_disk\u001B[0m=\u001B[30mNone\u001B[0m,\n",
       "            \u001B[38;2;232;125;62mpayload_m\u001B[0m=\u001B[30mNone\u001B[0m\n",
       "        \u001B[1m)\u001B[0m,\n",
       "        \u001B[38;2;232;125;62moptimizer_config\u001B[0m=\u001B[33mOptimizersConfig\u001B[0m\u001B[1m(\u001B[0m\n",
       "            \u001B[38;2;232;125;62mdeleted_threshold\u001B[0m=\u001B[37m0\u001B[0m\u001B[37m.2\u001B[0m,\n",
       "            \u001B[38;2;232;125;62mvacuum_min_vector_number\u001B[0m=\u001B[37m1000\u001B[0m,\n",
       "            \u001B[38;2;232;125;62mdefault_segment_number\u001B[0m=\u001B[37m0\u001B[0m,\n",
       "            \u001B[38;2;232;125;62mmax_segment_size\u001B[0m=\u001B[30mNone\u001B[0m,\n",
       "            \u001B[38;2;232;125;62mmemmap_threshold\u001B[0m=\u001B[30mNone\u001B[0m,\n",
       "            \u001B[38;2;232;125;62mindexing_threshold\u001B[0m=\u001B[37m20000\u001B[0m,\n",
       "            \u001B[38;2;232;125;62mflush_interval_sec\u001B[0m=\u001B[37m5\u001B[0m,\n",
       "            \u001B[38;2;232;125;62mmax_optimization_threads\u001B[0m=\u001B[37m1\u001B[0m\n",
       "        \u001B[1m)\u001B[0m,\n",
       "        \u001B[38;2;232;125;62mwal_config\u001B[0m=\u001B[33mWalConfig\u001B[0m\u001B[1m(\u001B[0m\u001B[38;2;232;125;62mwal_capacity_mb\u001B[0m=\u001B[37m32\u001B[0m, \u001B[38;2;232;125;62mwal_segments_ahead\u001B[0m=\u001B[37m0\u001B[0m\u001B[1m)\u001B[0m,\n",
       "        \u001B[38;2;232;125;62mquantization_config\u001B[0m=\u001B[30mNone\u001B[0m,\n",
       "        \u001B[38;2;232;125;62mstrict_mode_config\u001B[0m=\u001B[30mNone\u001B[0m\n",
       "    \u001B[1m)\u001B[0m,\n",
       "    \u001B[38;2;232;125;62mpayload_schema\u001B[0m=\u001B[1m{\u001B[0m\u001B[1m}\u001B[0m\n",
       "\u001B[1m)\u001B[0m\n"
      ],
      "text/html": [
       "<pre style=\"white-space:pre;overflow-x:auto;line-height:normal;font-family:Menlo,'DejaVu Sans Mono',consolas,'Courier New',monospace\"><span style=\"color: #808000; text-decoration-color: #808000\">CollectionInfo</span><span style=\"font-weight: bold\">(</span>\n",
       "    <span style=\"color: #e87d3e; text-decoration-color: #e87d3e\">status</span>=<span style=\"font-weight: bold\">&lt;</span><span style=\"color: #008080; text-decoration-color: #008080\">CollectionStatus.GREEN:</span><span style=\"color: #000000; text-decoration-color: #000000\"> </span><span style=\"color: #008000; text-decoration-color: #008000\">'green'</span><span style=\"color: #000000; text-decoration-color: #000000\">&gt;,</span>\n",
       "<span style=\"color: #000000; text-decoration-color: #000000\">    </span><span style=\"color: #e87d3e; text-decoration-color: #e87d3e\">optimizer_status</span><span style=\"color: #000000; text-decoration-color: #000000\">=&lt;OptimizersStatusOneOf.OK: </span><span style=\"color: #008000; text-decoration-color: #008000\">'ok'</span><span style=\"color: #000000; text-decoration-color: #000000\">&gt;,</span>\n",
       "<span style=\"color: #000000; text-decoration-color: #000000\">    </span><span style=\"color: #e87d3e; text-decoration-color: #e87d3e\">vectors_count</span><span style=\"color: #000000; text-decoration-color: #000000\">=</span><span style=\"color: #000000; text-decoration-color: #000000\">None</span><span style=\"color: #000000; text-decoration-color: #000000\">,</span>\n",
       "<span style=\"color: #000000; text-decoration-color: #000000\">    </span><span style=\"color: #e87d3e; text-decoration-color: #e87d3e\">indexed_vectors_count</span><span style=\"color: #000000; text-decoration-color: #000000\">=</span><span style=\"color: #c0c0c0; text-decoration-color: #c0c0c0\">0</span><span style=\"color: #000000; text-decoration-color: #000000\">,</span>\n",
       "<span style=\"color: #000000; text-decoration-color: #000000\">    </span><span style=\"color: #e87d3e; text-decoration-color: #e87d3e\">points_count</span><span style=\"color: #000000; text-decoration-color: #000000\">=</span><span style=\"color: #c0c0c0; text-decoration-color: #c0c0c0\">162</span><span style=\"color: #000000; text-decoration-color: #000000\">,</span>\n",
       "<span style=\"color: #000000; text-decoration-color: #000000\">    </span><span style=\"color: #e87d3e; text-decoration-color: #e87d3e\">segments_count</span><span style=\"color: #000000; text-decoration-color: #000000\">=</span><span style=\"color: #c0c0c0; text-decoration-color: #c0c0c0\">1</span><span style=\"color: #000000; text-decoration-color: #000000\">,</span>\n",
       "<span style=\"color: #000000; text-decoration-color: #000000\">    </span><span style=\"color: #e87d3e; text-decoration-color: #e87d3e\">config</span><span style=\"color: #000000; text-decoration-color: #000000\">=</span><span style=\"color: #808000; text-decoration-color: #808000\">CollectionConfig</span><span style=\"color: #000000; text-decoration-color: #000000; font-weight: bold\">(</span>\n",
       "<span style=\"color: #000000; text-decoration-color: #000000\">        </span><span style=\"color: #e87d3e; text-decoration-color: #e87d3e\">params</span><span style=\"color: #000000; text-decoration-color: #000000\">=</span><span style=\"color: #808000; text-decoration-color: #808000\">CollectionParams</span><span style=\"color: #000000; text-decoration-color: #000000; font-weight: bold\">(</span>\n",
       "<span style=\"color: #000000; text-decoration-color: #000000\">            </span><span style=\"color: #e87d3e; text-decoration-color: #e87d3e\">vectors</span><span style=\"color: #000000; text-decoration-color: #000000\">=</span><span style=\"color: #808000; text-decoration-color: #808000\">VectorParams</span><span style=\"color: #000000; text-decoration-color: #000000; font-weight: bold\">(</span>\n",
       "<span style=\"color: #000000; text-decoration-color: #000000\">                </span><span style=\"color: #e87d3e; text-decoration-color: #e87d3e\">size</span><span style=\"color: #000000; text-decoration-color: #000000\">=</span><span style=\"color: #c0c0c0; text-decoration-color: #c0c0c0\">384</span><span style=\"color: #000000; text-decoration-color: #000000\">,</span>\n",
       "<span style=\"color: #000000; text-decoration-color: #000000\">                </span><span style=\"color: #e87d3e; text-decoration-color: #e87d3e\">distance</span><span style=\"color: #000000; text-decoration-color: #000000\">=&lt;Distance.COSINE: </span><span style=\"color: #008000; text-decoration-color: #008000\">'Cosine'</span><span style=\"font-weight: bold\">&gt;</span>,\n",
       "                <span style=\"color: #e87d3e; text-decoration-color: #e87d3e\">hnsw_config</span>=<span style=\"color: #000000; text-decoration-color: #000000\">None</span>,\n",
       "                <span style=\"color: #e87d3e; text-decoration-color: #e87d3e\">quantization_config</span>=<span style=\"color: #000000; text-decoration-color: #000000\">None</span>,\n",
       "                <span style=\"color: #e87d3e; text-decoration-color: #e87d3e\">on_disk</span>=<span style=\"color: #000000; text-decoration-color: #000000\">None</span>,\n",
       "                <span style=\"color: #e87d3e; text-decoration-color: #e87d3e\">datatype</span>=<span style=\"color: #000000; text-decoration-color: #000000\">None</span>,\n",
       "                <span style=\"color: #e87d3e; text-decoration-color: #e87d3e\">multivector_config</span>=<span style=\"color: #000000; text-decoration-color: #000000\">None</span>\n",
       "            <span style=\"font-weight: bold\">)</span>,\n",
       "            <span style=\"color: #e87d3e; text-decoration-color: #e87d3e\">shard_number</span>=<span style=\"color: #000000; text-decoration-color: #000000\">None</span>,\n",
       "            <span style=\"color: #e87d3e; text-decoration-color: #e87d3e\">sharding_method</span>=<span style=\"color: #000000; text-decoration-color: #000000\">None</span>,\n",
       "            <span style=\"color: #e87d3e; text-decoration-color: #e87d3e\">replication_factor</span>=<span style=\"color: #000000; text-decoration-color: #000000\">None</span>,\n",
       "            <span style=\"color: #e87d3e; text-decoration-color: #e87d3e\">write_consistency_factor</span>=<span style=\"color: #000000; text-decoration-color: #000000\">None</span>,\n",
       "            <span style=\"color: #e87d3e; text-decoration-color: #e87d3e\">read_fan_out_factor</span>=<span style=\"color: #000000; text-decoration-color: #000000\">None</span>,\n",
       "            <span style=\"color: #e87d3e; text-decoration-color: #e87d3e\">on_disk_payload</span>=<span style=\"color: #000000; text-decoration-color: #000000\">None</span>,\n",
       "            <span style=\"color: #e87d3e; text-decoration-color: #e87d3e\">sparse_vectors</span>=<span style=\"color: #000000; text-decoration-color: #000000\">None</span>\n",
       "        <span style=\"font-weight: bold\">)</span>,\n",
       "        <span style=\"color: #e87d3e; text-decoration-color: #e87d3e\">hnsw_config</span>=<span style=\"color: #808000; text-decoration-color: #808000\">HnswConfig</span><span style=\"font-weight: bold\">(</span>\n",
       "            <span style=\"color: #e87d3e; text-decoration-color: #e87d3e\">m</span>=<span style=\"color: #c0c0c0; text-decoration-color: #c0c0c0\">16</span>,\n",
       "            <span style=\"color: #e87d3e; text-decoration-color: #e87d3e\">ef_construct</span>=<span style=\"color: #c0c0c0; text-decoration-color: #c0c0c0\">100</span>,\n",
       "            <span style=\"color: #e87d3e; text-decoration-color: #e87d3e\">full_scan_threshold</span>=<span style=\"color: #c0c0c0; text-decoration-color: #c0c0c0\">10000</span>,\n",
       "            <span style=\"color: #e87d3e; text-decoration-color: #e87d3e\">max_indexing_threads</span>=<span style=\"color: #c0c0c0; text-decoration-color: #c0c0c0\">0</span>,\n",
       "            <span style=\"color: #e87d3e; text-decoration-color: #e87d3e\">on_disk</span>=<span style=\"color: #000000; text-decoration-color: #000000\">None</span>,\n",
       "            <span style=\"color: #e87d3e; text-decoration-color: #e87d3e\">payload_m</span>=<span style=\"color: #000000; text-decoration-color: #000000\">None</span>\n",
       "        <span style=\"font-weight: bold\">)</span>,\n",
       "        <span style=\"color: #e87d3e; text-decoration-color: #e87d3e\">optimizer_config</span>=<span style=\"color: #808000; text-decoration-color: #808000\">OptimizersConfig</span><span style=\"font-weight: bold\">(</span>\n",
       "            <span style=\"color: #e87d3e; text-decoration-color: #e87d3e\">deleted_threshold</span>=<span style=\"color: #c0c0c0; text-decoration-color: #c0c0c0\">0.2</span>,\n",
       "            <span style=\"color: #e87d3e; text-decoration-color: #e87d3e\">vacuum_min_vector_number</span>=<span style=\"color: #c0c0c0; text-decoration-color: #c0c0c0\">1000</span>,\n",
       "            <span style=\"color: #e87d3e; text-decoration-color: #e87d3e\">default_segment_number</span>=<span style=\"color: #c0c0c0; text-decoration-color: #c0c0c0\">0</span>,\n",
       "            <span style=\"color: #e87d3e; text-decoration-color: #e87d3e\">max_segment_size</span>=<span style=\"color: #000000; text-decoration-color: #000000\">None</span>,\n",
       "            <span style=\"color: #e87d3e; text-decoration-color: #e87d3e\">memmap_threshold</span>=<span style=\"color: #000000; text-decoration-color: #000000\">None</span>,\n",
       "            <span style=\"color: #e87d3e; text-decoration-color: #e87d3e\">indexing_threshold</span>=<span style=\"color: #c0c0c0; text-decoration-color: #c0c0c0\">20000</span>,\n",
       "            <span style=\"color: #e87d3e; text-decoration-color: #e87d3e\">flush_interval_sec</span>=<span style=\"color: #c0c0c0; text-decoration-color: #c0c0c0\">5</span>,\n",
       "            <span style=\"color: #e87d3e; text-decoration-color: #e87d3e\">max_optimization_threads</span>=<span style=\"color: #c0c0c0; text-decoration-color: #c0c0c0\">1</span>\n",
       "        <span style=\"font-weight: bold\">)</span>,\n",
       "        <span style=\"color: #e87d3e; text-decoration-color: #e87d3e\">wal_config</span>=<span style=\"color: #808000; text-decoration-color: #808000\">WalConfig</span><span style=\"font-weight: bold\">(</span><span style=\"color: #e87d3e; text-decoration-color: #e87d3e\">wal_capacity_mb</span>=<span style=\"color: #c0c0c0; text-decoration-color: #c0c0c0\">32</span>, <span style=\"color: #e87d3e; text-decoration-color: #e87d3e\">wal_segments_ahead</span>=<span style=\"color: #c0c0c0; text-decoration-color: #c0c0c0\">0</span><span style=\"font-weight: bold\">)</span>,\n",
       "        <span style=\"color: #e87d3e; text-decoration-color: #e87d3e\">quantization_config</span>=<span style=\"color: #000000; text-decoration-color: #000000\">None</span>,\n",
       "        <span style=\"color: #e87d3e; text-decoration-color: #e87d3e\">strict_mode_config</span>=<span style=\"color: #000000; text-decoration-color: #000000\">None</span>\n",
       "    <span style=\"font-weight: bold\">)</span>,\n",
       "    <span style=\"color: #e87d3e; text-decoration-color: #e87d3e\">payload_schema</span>=<span style=\"font-weight: bold\">{}</span>\n",
       "<span style=\"font-weight: bold\">)</span>\n",
       "</pre>\n"
      ]
     },
     "metadata": {},
     "output_type": "display_data"
    }
   ],
   "execution_count": 8
  },
  {
   "metadata": {
    "ExecuteTime": {
     "end_time": "2025-08-27T12:49:15.102616Z",
     "start_time": "2025-08-27T12:49:15.026343Z"
    }
   },
   "cell_type": "code",
   "source": [
    "# what do we want to know\n",
    "user_prompt = \"which stations have major flooding\"\n",
    "\n",
    "# turn the query into a vector\n",
    "query_vector = encoder.encode(user_prompt).tolist()\n",
    "\n",
    "# get the results\n",
    "results = qdrant.search(collection_name=\"stations\", query_vector=query_vector, limit=3)\n",
    "\n",
    "console.print('Q:', user_prompt)\n",
    "\n",
    "# output the results\n",
    "for r in results:\n",
    "    console.print('A: Station', r.payload['name'], 'has', r.payload['flooded'] + '.')\n",
    "    console.print('score:', round(r.score, 3), '\\nfull payload:', r.payload)"
   ],
   "id": "557b2524c384653e",
   "outputs": [
    {
     "data": {
      "text/plain": [
       "Q: which stations have major flooding\n"
      ],
      "text/html": [
       "<pre style=\"white-space:pre;overflow-x:auto;line-height:normal;font-family:Menlo,'DejaVu Sans Mono',consolas,'Courier New',monospace\">Q: which stations have major flooding\n",
       "</pre>\n"
      ]
     },
     "metadata": {},
     "output_type": "display_data"
    },
    {
     "data": {
      "text/plain": [
       "A: Station Yorktown USCG Training Center has major flooding.\n"
      ],
      "text/html": [
       "<pre style=\"white-space:pre;overflow-x:auto;line-height:normal;font-family:Menlo,'DejaVu Sans Mono',consolas,'Courier New',monospace\">A: Station Yorktown USCG Training Center has major flooding.\n",
       "</pre>\n"
      ]
     },
     "metadata": {},
     "output_type": "display_data"
    },
    {
     "data": {
      "text/plain": [
       "score: \u001B[37m0.758\u001B[0m \n",
       "full payload:\n",
       "\u001B[1m{\u001B[0m\n",
       "    \u001B[32m'station_id'\u001B[0m: \u001B[37m8637689\u001B[0m,\n",
       "    \u001B[32m'abbrev'\u001B[0m: \u001B[32m'Yorktown'\u001B[0m,\n",
       "    \u001B[32m'name'\u001B[0m: \u001B[32m'Yorktown USCG Training Center'\u001B[0m,\n",
       "    \u001B[32m'lon'\u001B[0m: \u001B[37m-76.478806\u001B[0m,\n",
       "    \u001B[32m'lat'\u001B[0m: \u001B[37m37.2265\u001B[0m,\n",
       "    \u001B[32m'nos_minor'\u001B[0m: \u001B[37m3.080788780487804\u001B[0m,\n",
       "    \u001B[32m'nos_moderate'\u001B[0m: \u001B[37m4.0410346341463415\u001B[0m,\n",
       "    \u001B[32m'nos_major'\u001B[0m: \u001B[37m5.281352195121952\u001B[0m,\n",
       "    \u001B[32m'nws_minor'\u001B[0m: \u001B[37m3.260834878048779\u001B[0m,\n",
       "    \u001B[32m'nws_moderate'\u001B[0m: \u001B[37m3.760962926829268\u001B[0m,\n",
       "    \u001B[32m'nws_major'\u001B[0m: \u001B[37m4.261090975609756\u001B[0m,\n",
       "    \u001B[32m'current_level'\u001B[0m: \u001B[37m5\u001B[0m,\n",
       "    \u001B[32m'flooded'\u001B[0m: \u001B[32m'major flooding'\u001B[0m\n",
       "\u001B[1m}\u001B[0m\n"
      ],
      "text/html": [
       "<pre style=\"white-space:pre;overflow-x:auto;line-height:normal;font-family:Menlo,'DejaVu Sans Mono',consolas,'Courier New',monospace\">score: <span style=\"color: #c0c0c0; text-decoration-color: #c0c0c0\">0.758</span> \n",
       "full payload:\n",
       "<span style=\"font-weight: bold\">{</span>\n",
       "    <span style=\"color: #008000; text-decoration-color: #008000\">'station_id'</span>: <span style=\"color: #c0c0c0; text-decoration-color: #c0c0c0\">8637689</span>,\n",
       "    <span style=\"color: #008000; text-decoration-color: #008000\">'abbrev'</span>: <span style=\"color: #008000; text-decoration-color: #008000\">'Yorktown'</span>,\n",
       "    <span style=\"color: #008000; text-decoration-color: #008000\">'name'</span>: <span style=\"color: #008000; text-decoration-color: #008000\">'Yorktown USCG Training Center'</span>,\n",
       "    <span style=\"color: #008000; text-decoration-color: #008000\">'lon'</span>: <span style=\"color: #c0c0c0; text-decoration-color: #c0c0c0\">-76.478806</span>,\n",
       "    <span style=\"color: #008000; text-decoration-color: #008000\">'lat'</span>: <span style=\"color: #c0c0c0; text-decoration-color: #c0c0c0\">37.2265</span>,\n",
       "    <span style=\"color: #008000; text-decoration-color: #008000\">'nos_minor'</span>: <span style=\"color: #c0c0c0; text-decoration-color: #c0c0c0\">3.080788780487804</span>,\n",
       "    <span style=\"color: #008000; text-decoration-color: #008000\">'nos_moderate'</span>: <span style=\"color: #c0c0c0; text-decoration-color: #c0c0c0\">4.0410346341463415</span>,\n",
       "    <span style=\"color: #008000; text-decoration-color: #008000\">'nos_major'</span>: <span style=\"color: #c0c0c0; text-decoration-color: #c0c0c0\">5.281352195121952</span>,\n",
       "    <span style=\"color: #008000; text-decoration-color: #008000\">'nws_minor'</span>: <span style=\"color: #c0c0c0; text-decoration-color: #c0c0c0\">3.260834878048779</span>,\n",
       "    <span style=\"color: #008000; text-decoration-color: #008000\">'nws_moderate'</span>: <span style=\"color: #c0c0c0; text-decoration-color: #c0c0c0\">3.760962926829268</span>,\n",
       "    <span style=\"color: #008000; text-decoration-color: #008000\">'nws_major'</span>: <span style=\"color: #c0c0c0; text-decoration-color: #c0c0c0\">4.261090975609756</span>,\n",
       "    <span style=\"color: #008000; text-decoration-color: #008000\">'current_level'</span>: <span style=\"color: #c0c0c0; text-decoration-color: #c0c0c0\">5</span>,\n",
       "    <span style=\"color: #008000; text-decoration-color: #008000\">'flooded'</span>: <span style=\"color: #008000; text-decoration-color: #008000\">'major flooding'</span>\n",
       "<span style=\"font-weight: bold\">}</span>\n",
       "</pre>\n"
      ]
     },
     "metadata": {},
     "output_type": "display_data"
    },
    {
     "data": {
      "text/plain": [
       "A: Station West Fowl River Bridge has major flooding.\n"
      ],
      "text/html": [
       "<pre style=\"white-space:pre;overflow-x:auto;line-height:normal;font-family:Menlo,'DejaVu Sans Mono',consolas,'Courier New',monospace\">A: Station West Fowl River Bridge has major flooding.\n",
       "</pre>\n"
      ]
     },
     "metadata": {},
     "output_type": "display_data"
    },
    {
     "data": {
      "text/plain": [
       "score: \u001B[37m0.758\u001B[0m \n",
       "full payload:\n",
       "\u001B[1m{\u001B[0m\n",
       "    \u001B[32m'station_id'\u001B[0m: \u001B[37m8738043\u001B[0m,\n",
       "    \u001B[32m'abbrev'\u001B[0m: \u001B[32m'WestFowl'\u001B[0m,\n",
       "    \u001B[32m'name'\u001B[0m: \u001B[32m'West Fowl River Bridge'\u001B[0m,\n",
       "    \u001B[32m'lon'\u001B[0m: \u001B[37m-88.1586\u001B[0m,\n",
       "    \u001B[32m'lat'\u001B[0m: \u001B[37m30.3766\u001B[0m,\n",
       "    \u001B[32m'nos_minor'\u001B[0m: \u001B[37m2.5506530487804904\u001B[0m,\n",
       "    \u001B[32m'nos_moderate'\u001B[0m: \u001B[37m3.510898902439025\u001B[0m,\n",
       "    \u001B[32m'nos_major'\u001B[0m: \u001B[37m4.751216463414634\u001B[0m,\n",
       "    \u001B[32m'nws_minor'\u001B[0m: \u001B[37m2.840727317073172\u001B[0m,\n",
       "    \u001B[32m'nws_moderate'\u001B[0m: \u001B[37m3.8309808536585375\u001B[0m,\n",
       "    \u001B[32m'nws_major'\u001B[0m: \u001B[37m6.841751707317075\u001B[0m,\n",
       "    \u001B[32m'current_level'\u001B[0m: \u001B[37m5\u001B[0m,\n",
       "    \u001B[32m'flooded'\u001B[0m: \u001B[32m'major flooding'\u001B[0m\n",
       "\u001B[1m}\u001B[0m\n"
      ],
      "text/html": [
       "<pre style=\"white-space:pre;overflow-x:auto;line-height:normal;font-family:Menlo,'DejaVu Sans Mono',consolas,'Courier New',monospace\">score: <span style=\"color: #c0c0c0; text-decoration-color: #c0c0c0\">0.758</span> \n",
       "full payload:\n",
       "<span style=\"font-weight: bold\">{</span>\n",
       "    <span style=\"color: #008000; text-decoration-color: #008000\">'station_id'</span>: <span style=\"color: #c0c0c0; text-decoration-color: #c0c0c0\">8738043</span>,\n",
       "    <span style=\"color: #008000; text-decoration-color: #008000\">'abbrev'</span>: <span style=\"color: #008000; text-decoration-color: #008000\">'WestFowl'</span>,\n",
       "    <span style=\"color: #008000; text-decoration-color: #008000\">'name'</span>: <span style=\"color: #008000; text-decoration-color: #008000\">'West Fowl River Bridge'</span>,\n",
       "    <span style=\"color: #008000; text-decoration-color: #008000\">'lon'</span>: <span style=\"color: #c0c0c0; text-decoration-color: #c0c0c0\">-88.1586</span>,\n",
       "    <span style=\"color: #008000; text-decoration-color: #008000\">'lat'</span>: <span style=\"color: #c0c0c0; text-decoration-color: #c0c0c0\">30.3766</span>,\n",
       "    <span style=\"color: #008000; text-decoration-color: #008000\">'nos_minor'</span>: <span style=\"color: #c0c0c0; text-decoration-color: #c0c0c0\">2.5506530487804904</span>,\n",
       "    <span style=\"color: #008000; text-decoration-color: #008000\">'nos_moderate'</span>: <span style=\"color: #c0c0c0; text-decoration-color: #c0c0c0\">3.510898902439025</span>,\n",
       "    <span style=\"color: #008000; text-decoration-color: #008000\">'nos_major'</span>: <span style=\"color: #c0c0c0; text-decoration-color: #c0c0c0\">4.751216463414634</span>,\n",
       "    <span style=\"color: #008000; text-decoration-color: #008000\">'nws_minor'</span>: <span style=\"color: #c0c0c0; text-decoration-color: #c0c0c0\">2.840727317073172</span>,\n",
       "    <span style=\"color: #008000; text-decoration-color: #008000\">'nws_moderate'</span>: <span style=\"color: #c0c0c0; text-decoration-color: #c0c0c0\">3.8309808536585375</span>,\n",
       "    <span style=\"color: #008000; text-decoration-color: #008000\">'nws_major'</span>: <span style=\"color: #c0c0c0; text-decoration-color: #c0c0c0\">6.841751707317075</span>,\n",
       "    <span style=\"color: #008000; text-decoration-color: #008000\">'current_level'</span>: <span style=\"color: #c0c0c0; text-decoration-color: #c0c0c0\">5</span>,\n",
       "    <span style=\"color: #008000; text-decoration-color: #008000\">'flooded'</span>: <span style=\"color: #008000; text-decoration-color: #008000\">'major flooding'</span>\n",
       "<span style=\"font-weight: bold\">}</span>\n",
       "</pre>\n"
      ]
     },
     "metadata": {},
     "output_type": "display_data"
    },
    {
     "data": {
      "text/plain": [
       "A: Station Shell Beach has major flooding.\n"
      ],
      "text/html": [
       "<pre style=\"white-space:pre;overflow-x:auto;line-height:normal;font-family:Menlo,'DejaVu Sans Mono',consolas,'Courier New',monospace\">A: Station Shell Beach has major flooding.\n",
       "</pre>\n"
      ]
     },
     "metadata": {},
     "output_type": "display_data"
    },
    {
     "data": {
      "text/plain": [
       "score: \u001B[37m0.758\u001B[0m \n",
       "full payload:\n",
       "\u001B[1m{\u001B[0m\n",
       "    \u001B[32m'station_id'\u001B[0m: \u001B[37m8761305\u001B[0m,\n",
       "    \u001B[32m'abbrev'\u001B[0m: \u001B[32m'ShellBea'\u001B[0m,\n",
       "    \u001B[32m'name'\u001B[0m: \u001B[32m'Shell Beach'\u001B[0m,\n",
       "    \u001B[32m'lon'\u001B[0m: \u001B[37m-89.673\u001B[0m,\n",
       "    \u001B[32m'lat'\u001B[0m: \u001B[37m29.8683\u001B[0m,\n",
       "    \u001B[32m'nos_minor'\u001B[0m: \u001B[37m2.420619756097562\u001B[0m,\n",
       "    \u001B[32m'nos_moderate'\u001B[0m: \u001B[37m3.390868170731712\u001B[0m,\n",
       "    \u001B[32m'nos_major'\u001B[0m: \u001B[37m4.621183170731706\u001B[0m,\n",
       "    \u001B[32m'nws_minor'\u001B[0m: \u001B[37m2.6406760975609807\u001B[0m,\n",
       "    \u001B[32m'nws_moderate'\u001B[0m: \u001B[37m3.6409321951219558\u001B[0m,\n",
       "    \u001B[32m'nws_major'\u001B[0m: \u001B[37m6.641700487804881\u001B[0m,\n",
       "    \u001B[32m'current_level'\u001B[0m: \u001B[37m5\u001B[0m,\n",
       "    \u001B[32m'flooded'\u001B[0m: \u001B[32m'major flooding'\u001B[0m\n",
       "\u001B[1m}\u001B[0m\n"
      ],
      "text/html": [
       "<pre style=\"white-space:pre;overflow-x:auto;line-height:normal;font-family:Menlo,'DejaVu Sans Mono',consolas,'Courier New',monospace\">score: <span style=\"color: #c0c0c0; text-decoration-color: #c0c0c0\">0.758</span> \n",
       "full payload:\n",
       "<span style=\"font-weight: bold\">{</span>\n",
       "    <span style=\"color: #008000; text-decoration-color: #008000\">'station_id'</span>: <span style=\"color: #c0c0c0; text-decoration-color: #c0c0c0\">8761305</span>,\n",
       "    <span style=\"color: #008000; text-decoration-color: #008000\">'abbrev'</span>: <span style=\"color: #008000; text-decoration-color: #008000\">'ShellBea'</span>,\n",
       "    <span style=\"color: #008000; text-decoration-color: #008000\">'name'</span>: <span style=\"color: #008000; text-decoration-color: #008000\">'Shell Beach'</span>,\n",
       "    <span style=\"color: #008000; text-decoration-color: #008000\">'lon'</span>: <span style=\"color: #c0c0c0; text-decoration-color: #c0c0c0\">-89.673</span>,\n",
       "    <span style=\"color: #008000; text-decoration-color: #008000\">'lat'</span>: <span style=\"color: #c0c0c0; text-decoration-color: #c0c0c0\">29.8683</span>,\n",
       "    <span style=\"color: #008000; text-decoration-color: #008000\">'nos_minor'</span>: <span style=\"color: #c0c0c0; text-decoration-color: #c0c0c0\">2.420619756097562</span>,\n",
       "    <span style=\"color: #008000; text-decoration-color: #008000\">'nos_moderate'</span>: <span style=\"color: #c0c0c0; text-decoration-color: #c0c0c0\">3.390868170731712</span>,\n",
       "    <span style=\"color: #008000; text-decoration-color: #008000\">'nos_major'</span>: <span style=\"color: #c0c0c0; text-decoration-color: #c0c0c0\">4.621183170731706</span>,\n",
       "    <span style=\"color: #008000; text-decoration-color: #008000\">'nws_minor'</span>: <span style=\"color: #c0c0c0; text-decoration-color: #c0c0c0\">2.6406760975609807</span>,\n",
       "    <span style=\"color: #008000; text-decoration-color: #008000\">'nws_moderate'</span>: <span style=\"color: #c0c0c0; text-decoration-color: #c0c0c0\">3.6409321951219558</span>,\n",
       "    <span style=\"color: #008000; text-decoration-color: #008000\">'nws_major'</span>: <span style=\"color: #c0c0c0; text-decoration-color: #c0c0c0\">6.641700487804881</span>,\n",
       "    <span style=\"color: #008000; text-decoration-color: #008000\">'current_level'</span>: <span style=\"color: #c0c0c0; text-decoration-color: #c0c0c0\">5</span>,\n",
       "    <span style=\"color: #008000; text-decoration-color: #008000\">'flooded'</span>: <span style=\"color: #008000; text-decoration-color: #008000\">'major flooding'</span>\n",
       "<span style=\"font-weight: bold\">}</span>\n",
       "</pre>\n"
      ]
     },
     "metadata": {},
     "output_type": "display_data"
    }
   ],
   "execution_count": 10
  }
 ],
 "metadata": {
  "kernelspec": {
   "display_name": "Python 3",
   "language": "python",
   "name": "python3"
  },
  "language_info": {
   "codemirror_mode": {
    "name": "ipython",
    "version": 2
   },
   "file_extension": ".py",
   "mimetype": "text/x-python",
   "name": "python",
   "nbconvert_exporter": "python",
   "pygments_lexer": "ipython2",
   "version": "2.7.6"
  }
 },
 "nbformat": 4,
 "nbformat_minor": 5
}
