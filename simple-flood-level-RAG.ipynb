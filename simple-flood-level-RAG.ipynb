{
 "cells": [
  {
   "cell_type": "code",
   "id": "initial_id",
   "metadata": {
    "ExecuteTime": {
     "end_time": "2025-09-03T12:30:07.781797Z",
     "start_time": "2025-09-03T12:30:07.610760Z"
    }
   },
   "source": [
    "from rich.console import Console\n",
    "from rich_theme_manager import ThemeManager\n",
    "import pathlib\n",
    "import warnings\n",
    "\"\"\"\n",
    "This is a simple RAG that:\n",
    " - gets mocked up data from the APSViz DB\n",
    " - embeds sentence transformer vectors into a qdrant vector DB\n",
    " - uses a mini-LLM for NLM.\n",
    "\"\"\"\n",
    "from dotenv import load_dotenv\n",
    "import os\n",
    "import psycopg2\n",
    "\n",
    "# load the secret DB credentials\n",
    "load_dotenv()\n",
    "\n",
    "# load the theme\n",
    "theme_dir = pathlib.Path(\"themes\")\n",
    "theme_manager = ThemeManager(theme_dir=theme_dir)\n",
    "dark = theme_manager.get(\"dark\")\n",
    "\n",
    "# create a console with the dark theme\n",
    "console = Console(theme=dark)\n",
    "\n",
    "# suppress warnings\n",
    "warnings.filterwarnings('ignore')"
   ],
   "outputs": [],
   "execution_count": 1
  },
  {
   "metadata": {
    "ExecuteTime": {
     "end_time": "2025-09-03T12:30:07.797101Z",
     "start_time": "2025-09-03T12:30:07.788792Z"
    }
   },
   "cell_type": "code",
   "source": [
    "def run_query(query):\n",
    "    \"\"\"\n",
    "    runs a query against the APSViz DB.\n",
    "\n",
    "    Note this notebook expects localhost to be connected to a postgres DB.\n",
    "    :param query:\n",
    "    :return:\n",
    "    \"\"\"\n",
    "    # Database connection parameters\n",
    "    connection = psycopg2.connect(dbname=\"apsviz\", user=os.getenv(\"PG_USER\"), password=os.getenv(\"PG_USER\"), host=\"localhost\", port=\"5432\")\n",
    "\n",
    "    results = None\n",
    "\n",
    "    with connection.cursor() as cursor:\n",
    "        try:\n",
    "            # Create a cursor object\n",
    "            cursor = connection.cursor()\n",
    "\n",
    "            # Execute an SQL query\n",
    "            cursor.execute(query)\n",
    "\n",
    "            # Fetch and print results\n",
    "            results = cursor.fetchall()\n",
    "\n",
    "        except Exception as e:\n",
    "            print(\"An error occurred:\", e)\n",
    "\n",
    "        finally:\n",
    "            # Close the cursor and connection\n",
    "            cursor.close()\n",
    "            connection.close()\n",
    "\n",
    "    return results[0][0]"
   ],
   "id": "84d3b72b95b2aaf1",
   "outputs": [],
   "execution_count": 2
  },
  {
   "metadata": {
    "ExecuteTime": {
     "end_time": "2025-09-03T12:30:08.028489Z",
     "start_time": "2025-09-03T12:30:07.809484Z"
    }
   },
   "cell_type": "code",
   "source": [
    "# create the SQL and get mocked up data from the DB.\n",
    "# note we are converting number values to feet.\n",
    "query = \"\"\"\n",
    "            SELECT json_agg(row_to_json(t))\n",
    "            FROM (\n",
    "                SELECT station_id, abbrev, name, lon, lat,\n",
    "                CASE WHEN nos_minor IS NOT NULL THEN (nos_minor * 3.28084) ELSE NULL END AS nos_minor,\n",
    "                CASE WHEN nos_moderate IS NOT NULL THEN (nos_moderate * 3.28084) ELSE NULL END AS nos_moderate,\n",
    "                CASE WHEN nos_major IS NOT NULL THEN (nos_major * 3.28084) ELSE NULL END AS nos_major,\n",
    "                CASE WHEN nws_minor IS NOT NULL THEN (nws_minor * 3.28084) ELSE NULL END AS nws_minor,\n",
    "                CASE WHEN nws_moderate IS NOT NULL THEN (nws_moderate * 3.28084) ELSE NULL END AS nws_moderate,\n",
    "                CASE WHEN nws_major IS NOT NULL THEN (nws_major * 3.28084) ELSE NULL END AS nws_major,\n",
    "                FLOOR(random() * 5 + 1)::INT AS current_level\n",
    "                FROM noaa_station_levels\n",
    "                ORDER BY name\n",
    "            ) t ;\n",
    "        \"\"\"\n",
    "# get the station data\n",
    "stations = run_query(query)"
   ],
   "id": "572bb3c47d5921e5",
   "outputs": [],
   "execution_count": 3
  },
  {
   "metadata": {
    "ExecuteTime": {
     "end_time": "2025-09-03T12:30:08.059308Z",
     "start_time": "2025-09-03T12:30:08.039430Z"
    }
   },
   "cell_type": "code",
   "source": [
    "def get_flood_stage(values):\n",
    "    \"\"\"\n",
    "    Gets the flood stage based on the station data\n",
    "    Note \"current_data\" is a random number (1 to 5) already generated in the data\n",
    "    \"\"\"\n",
    "    if ((values['nos_major'] and values['nos_major'] - values['current_level'] < 0) or\n",
    "        (values['nws_major'] and values['nws_major'] - values['current_level'] < 0)):\n",
    "        return 'major flooding'\n",
    "    elif ((values['nos_moderate'] and values['nos_moderate'] - values['current_level'] < 0) or\n",
    "          (values['nws_moderate'] and values['nws_moderate'] - values['current_level'] < 0)):\n",
    "        return 'moderate flooding'\n",
    "    elif ((values['nos_minor'] and values['nos_minor'] - values['current_level'] < 0) or\n",
    "          (values['nws_minor'] and values['nws_minor'] - values['current_level'] < 0)):\n",
    "        return 'minor flooding'\n",
    "    else:\n",
    "        return 'no flooding'\n"
   ],
   "id": "155d82df663ec32d",
   "outputs": [],
   "execution_count": 4
  },
  {
   "metadata": {
    "ExecuteTime": {
     "end_time": "2025-09-03T12:30:34.446018Z",
     "start_time": "2025-09-03T12:30:08.071771Z"
    }
   },
   "cell_type": "code",
   "source": [
    "from qdrant_client import models, QdrantClient\n",
    "from qdrant_client.models import VectorParams, PointStruct, Filter, FieldCondition, Range\n",
    "from sentence_transformers import SentenceTransformer\n",
    "\n",
    "\"\"\"\n",
    "Create and load a vector DB with encoded sentence vectors with the stations data\n",
    "\n",
    "\"\"\"\n",
    "# get a vector DB and a sentence transformer\n",
    "qdrant = QdrantClient(\":memory:\")\n",
    "encoder = SentenceTransformer(\"sentence-transformers/all-MiniLM-L6-v2\") #all-MiniLM-L6-v2 paraphrase-multilingual-MiniLM-L12-v2\n",
    "\n",
    "# Create collection with vector size\n",
    "qdrant.recreate_collection(collection_name=\"stations\", vectors_config=VectorParams(size=encoder.get_sentence_embedding_dimension(), distance=models.Distance.COSINE))"
   ],
   "id": "b574f61b613f89c9",
   "outputs": [
    {
     "name": "stdout",
     "output_type": "stream",
     "text": [
      "WARNING:tensorflow:From C:\\Users\\powen\\PycharmProjects\\AI-Sandbox\\venv-3.10.10\\lib\\site-packages\\tf_keras\\src\\losses.py:2976: The name tf.losses.sparse_softmax_cross_entropy is deprecated. Please use tf.compat.v1.losses.sparse_softmax_cross_entropy instead.\n",
      "\n"
     ]
    },
    {
     "data": {
      "text/plain": [
       "True"
      ]
     },
     "execution_count": 5,
     "metadata": {},
     "output_type": "execute_result"
    }
   ],
   "execution_count": 5
  },
  {
   "metadata": {
    "ExecuteTime": {
     "end_time": "2025-09-03T12:30:36.185876Z",
     "start_time": "2025-09-03T12:30:34.550217Z"
    }
   },
   "cell_type": "code",
   "source": [
    "# array for data points\n",
    "points = []\n",
    "\n",
    "# create an embedded vector for each station\n",
    "for item in stations:\n",
    "    # get the flood stage based on the data\n",
    "    flood_stage = get_flood_stage(item)\n",
    "\n",
    "    # use the flooding level and encode it\n",
    "    encoded = encoder.encode(flood_stage)\n",
    "\n",
    "    # convert to a encoded vector list\n",
    "    embedding = encoded.tolist()\n",
    "\n",
    "    # create the data points\n",
    "    points.append(\n",
    "        PointStruct(id=item[\"station_id\"], vector=embedding,\n",
    "                    payload={\n",
    "                        \"station_id\": item[\"station_id\"],\n",
    "                        \"abbrev\": item[\"abbrev\"],\n",
    "                        \"name\": item[\"name\"],\n",
    "                        \"lon\": item[\"lon\"], \"lat\": item[\"lat\"],\n",
    "                        \"nos_minor\": item['nos_minor'],\n",
    "                        \"nos_moderate\": item['nos_moderate'],\n",
    "                        \"nos_major\": item['nos_major'],\n",
    "                        \"nws_minor\": item['nws_minor'],\n",
    "                        \"nws_moderate\": item['nws_moderate'],\n",
    "                        \"nws_major\": item['nws_major'],\n",
    "                        \"current_level\": item[\"current_level\"],\n",
    "                        \"flooded\": flood_stage}\n",
    "        )\n",
    "    )"
   ],
   "id": "28a7d0bab7a26a9b",
   "outputs": [],
   "execution_count": 6
  },
  {
   "metadata": {
    "ExecuteTime": {
     "end_time": "2025-09-03T12:30:36.368338Z",
     "start_time": "2025-09-03T12:30:36.224009Z"
    }
   },
   "cell_type": "code",
   "source": [
    "# load the data points\n",
    "qdrant.upsert(collection_name=\"stations\", points=points)"
   ],
   "id": "9d4d00e53ca928ac",
   "outputs": [
    {
     "data": {
      "text/plain": [
       "UpdateResult(operation_id=0, status=<UpdateStatus.COMPLETED: 'completed'>)"
      ]
     },
     "execution_count": 7,
     "metadata": {},
     "output_type": "execute_result"
    }
   ],
   "execution_count": 7
  },
  {
   "metadata": {
    "ExecuteTime": {
     "end_time": "2025-09-03T12:30:36.415442Z",
     "start_time": "2025-09-03T12:30:36.384441Z"
    }
   },
   "cell_type": "code",
   "source": [
    "# show some stats on the qdrant collection\n",
    "console.print(qdrant.get_collection(collection_name=\"stations\"))"
   ],
   "id": "e709b672f92ee9b0",
   "outputs": [
    {
     "data": {
      "text/plain": [
       "\u001B[93mCollectionInfo\u001B[0m\u001B[1m(\u001B[0m\n",
       "    \u001B[1;38;2;232;125;62mstatus\u001B[0m=\u001B[1m<\u001B[0m\u001B[97mCollectionStatus.GREEN:\u001B[0m\u001B[39m \u001B[0m\u001B[92m'green'\u001B[0m\u001B[39m>,\u001B[0m\n",
       "\u001B[39m    \u001B[0m\u001B[1;38;2;232;125;62moptimizer_status\u001B[0m\u001B[39m=<OptimizersStatusOneOf.OK: \u001B[0m\u001B[92m'ok'\u001B[0m\u001B[39m>,\u001B[0m\n",
       "\u001B[39m    \u001B[0m\u001B[1;38;2;232;125;62mvectors_count\u001B[0m\u001B[39m=\u001B[0m\u001B[2;37mNone\u001B[0m\u001B[39m,\u001B[0m\n",
       "\u001B[39m    \u001B[0m\u001B[1;38;2;232;125;62mindexed_vectors_count\u001B[0m\u001B[39m=\u001B[0m\u001B[97m0\u001B[0m\u001B[39m,\u001B[0m\n",
       "\u001B[39m    \u001B[0m\u001B[1;38;2;232;125;62mpoints_count\u001B[0m\u001B[39m=\u001B[0m\u001B[97m162\u001B[0m\u001B[39m,\u001B[0m\n",
       "\u001B[39m    \u001B[0m\u001B[1;38;2;232;125;62msegments_count\u001B[0m\u001B[39m=\u001B[0m\u001B[97m1\u001B[0m\u001B[39m,\u001B[0m\n",
       "\u001B[39m    \u001B[0m\u001B[1;38;2;232;125;62mconfig\u001B[0m\u001B[39m=\u001B[0m\u001B[93mCollectionConfig\u001B[0m\u001B[1;39m(\u001B[0m\n",
       "\u001B[39m        \u001B[0m\u001B[1;38;2;232;125;62mparams\u001B[0m\u001B[39m=\u001B[0m\u001B[93mCollectionParams\u001B[0m\u001B[1;39m(\u001B[0m\n",
       "\u001B[39m            \u001B[0m\u001B[1;38;2;232;125;62mvectors\u001B[0m\u001B[39m=\u001B[0m\u001B[93mVectorParams\u001B[0m\u001B[1;39m(\u001B[0m\n",
       "\u001B[39m                \u001B[0m\u001B[1;38;2;232;125;62msize\u001B[0m\u001B[39m=\u001B[0m\u001B[97m384\u001B[0m\u001B[39m,\u001B[0m\n",
       "\u001B[39m                \u001B[0m\u001B[1;38;2;232;125;62mdistance\u001B[0m\u001B[39m=<Distance.COSINE: \u001B[0m\u001B[92m'Cosine'\u001B[0m\u001B[1m>\u001B[0m,\n",
       "                \u001B[1;38;2;232;125;62mhnsw_config\u001B[0m=\u001B[2;37mNone\u001B[0m,\n",
       "                \u001B[1;38;2;232;125;62mquantization_config\u001B[0m=\u001B[2;37mNone\u001B[0m,\n",
       "                \u001B[1;38;2;232;125;62mon_disk\u001B[0m=\u001B[2;37mNone\u001B[0m,\n",
       "                \u001B[1;38;2;232;125;62mdatatype\u001B[0m=\u001B[2;37mNone\u001B[0m,\n",
       "                \u001B[1;38;2;232;125;62mmultivector_config\u001B[0m=\u001B[2;37mNone\u001B[0m\n",
       "            \u001B[1m)\u001B[0m,\n",
       "            \u001B[1;38;2;232;125;62mshard_number\u001B[0m=\u001B[2;37mNone\u001B[0m,\n",
       "            \u001B[1;38;2;232;125;62msharding_method\u001B[0m=\u001B[2;37mNone\u001B[0m,\n",
       "            \u001B[1;38;2;232;125;62mreplication_factor\u001B[0m=\u001B[2;37mNone\u001B[0m,\n",
       "            \u001B[1;38;2;232;125;62mwrite_consistency_factor\u001B[0m=\u001B[2;37mNone\u001B[0m,\n",
       "            \u001B[1;38;2;232;125;62mread_fan_out_factor\u001B[0m=\u001B[2;37mNone\u001B[0m,\n",
       "            \u001B[1;38;2;232;125;62mon_disk_payload\u001B[0m=\u001B[2;37mNone\u001B[0m,\n",
       "            \u001B[1;38;2;232;125;62msparse_vectors\u001B[0m=\u001B[2;37mNone\u001B[0m\n",
       "        \u001B[1m)\u001B[0m,\n",
       "        \u001B[1;38;2;232;125;62mhnsw_config\u001B[0m=\u001B[93mHnswConfig\u001B[0m\u001B[1m(\u001B[0m\n",
       "            \u001B[1;38;2;232;125;62mm\u001B[0m=\u001B[97m16\u001B[0m,\n",
       "            \u001B[1;38;2;232;125;62mef_construct\u001B[0m=\u001B[97m100\u001B[0m,\n",
       "            \u001B[1;38;2;232;125;62mfull_scan_threshold\u001B[0m=\u001B[97m10000\u001B[0m,\n",
       "            \u001B[1;38;2;232;125;62mmax_indexing_threads\u001B[0m=\u001B[97m0\u001B[0m,\n",
       "            \u001B[1;38;2;232;125;62mon_disk\u001B[0m=\u001B[2;37mNone\u001B[0m,\n",
       "            \u001B[1;38;2;232;125;62mpayload_m\u001B[0m=\u001B[2;37mNone\u001B[0m\n",
       "        \u001B[1m)\u001B[0m,\n",
       "        \u001B[1;38;2;232;125;62moptimizer_config\u001B[0m=\u001B[93mOptimizersConfig\u001B[0m\u001B[1m(\u001B[0m\n",
       "            \u001B[1;38;2;232;125;62mdeleted_threshold\u001B[0m=\u001B[97m0\u001B[0m\u001B[97m.2\u001B[0m,\n",
       "            \u001B[1;38;2;232;125;62mvacuum_min_vector_number\u001B[0m=\u001B[97m1000\u001B[0m,\n",
       "            \u001B[1;38;2;232;125;62mdefault_segment_number\u001B[0m=\u001B[97m0\u001B[0m,\n",
       "            \u001B[1;38;2;232;125;62mmax_segment_size\u001B[0m=\u001B[2;37mNone\u001B[0m,\n",
       "            \u001B[1;38;2;232;125;62mmemmap_threshold\u001B[0m=\u001B[2;37mNone\u001B[0m,\n",
       "            \u001B[1;38;2;232;125;62mindexing_threshold\u001B[0m=\u001B[97m20000\u001B[0m,\n",
       "            \u001B[1;38;2;232;125;62mflush_interval_sec\u001B[0m=\u001B[97m5\u001B[0m,\n",
       "            \u001B[1;38;2;232;125;62mmax_optimization_threads\u001B[0m=\u001B[97m1\u001B[0m\n",
       "        \u001B[1m)\u001B[0m,\n",
       "        \u001B[1;38;2;232;125;62mwal_config\u001B[0m=\u001B[93mWalConfig\u001B[0m\u001B[1m(\u001B[0m\u001B[1;38;2;232;125;62mwal_capacity_mb\u001B[0m=\u001B[97m32\u001B[0m, \u001B[1;38;2;232;125;62mwal_segments_ahead\u001B[0m=\u001B[97m0\u001B[0m\u001B[1m)\u001B[0m,\n",
       "        \u001B[1;38;2;232;125;62mquantization_config\u001B[0m=\u001B[2;37mNone\u001B[0m,\n",
       "        \u001B[1;38;2;232;125;62mstrict_mode_config\u001B[0m=\u001B[2;37mNone\u001B[0m\n",
       "    \u001B[1m)\u001B[0m,\n",
       "    \u001B[1;38;2;232;125;62mpayload_schema\u001B[0m=\u001B[1m{\u001B[0m\u001B[1m}\u001B[0m\n",
       "\u001B[1m)\u001B[0m\n"
      ],
      "text/html": [
       "<pre style=\"white-space:pre;overflow-x:auto;line-height:normal;font-family:Menlo,'DejaVu Sans Mono',consolas,'Courier New',monospace\"><span style=\"color: #ffff00; text-decoration-color: #ffff00\">CollectionInfo</span><span style=\"font-weight: bold\">(</span>\n",
       "    <span style=\"color: #e87d3e; text-decoration-color: #e87d3e; font-weight: bold\">status</span>=<span style=\"font-weight: bold\">&lt;</span><span style=\"color: #ffffff; text-decoration-color: #ffffff\">CollectionStatus.GREEN:</span><span style=\"color: #000000; text-decoration-color: #000000\"> </span><span style=\"color: #00ff00; text-decoration-color: #00ff00\">'green'</span><span style=\"color: #000000; text-decoration-color: #000000\">&gt;,</span>\n",
       "<span style=\"color: #000000; text-decoration-color: #000000\">    </span><span style=\"color: #e87d3e; text-decoration-color: #e87d3e; font-weight: bold\">optimizer_status</span><span style=\"color: #000000; text-decoration-color: #000000\">=&lt;OptimizersStatusOneOf.OK: </span><span style=\"color: #00ff00; text-decoration-color: #00ff00\">'ok'</span><span style=\"color: #000000; text-decoration-color: #000000\">&gt;,</span>\n",
       "<span style=\"color: #000000; text-decoration-color: #000000\">    </span><span style=\"color: #e87d3e; text-decoration-color: #e87d3e; font-weight: bold\">vectors_count</span><span style=\"color: #000000; text-decoration-color: #000000\">=</span><span style=\"color: #dfdfdf; text-decoration-color: #dfdfdf\">None</span><span style=\"color: #000000; text-decoration-color: #000000\">,</span>\n",
       "<span style=\"color: #000000; text-decoration-color: #000000\">    </span><span style=\"color: #e87d3e; text-decoration-color: #e87d3e; font-weight: bold\">indexed_vectors_count</span><span style=\"color: #000000; text-decoration-color: #000000\">=</span><span style=\"color: #ffffff; text-decoration-color: #ffffff\">0</span><span style=\"color: #000000; text-decoration-color: #000000\">,</span>\n",
       "<span style=\"color: #000000; text-decoration-color: #000000\">    </span><span style=\"color: #e87d3e; text-decoration-color: #e87d3e; font-weight: bold\">points_count</span><span style=\"color: #000000; text-decoration-color: #000000\">=</span><span style=\"color: #ffffff; text-decoration-color: #ffffff\">162</span><span style=\"color: #000000; text-decoration-color: #000000\">,</span>\n",
       "<span style=\"color: #000000; text-decoration-color: #000000\">    </span><span style=\"color: #e87d3e; text-decoration-color: #e87d3e; font-weight: bold\">segments_count</span><span style=\"color: #000000; text-decoration-color: #000000\">=</span><span style=\"color: #ffffff; text-decoration-color: #ffffff\">1</span><span style=\"color: #000000; text-decoration-color: #000000\">,</span>\n",
       "<span style=\"color: #000000; text-decoration-color: #000000\">    </span><span style=\"color: #e87d3e; text-decoration-color: #e87d3e; font-weight: bold\">config</span><span style=\"color: #000000; text-decoration-color: #000000\">=</span><span style=\"color: #ffff00; text-decoration-color: #ffff00\">CollectionConfig</span><span style=\"color: #000000; text-decoration-color: #000000; font-weight: bold\">(</span>\n",
       "<span style=\"color: #000000; text-decoration-color: #000000\">        </span><span style=\"color: #e87d3e; text-decoration-color: #e87d3e; font-weight: bold\">params</span><span style=\"color: #000000; text-decoration-color: #000000\">=</span><span style=\"color: #ffff00; text-decoration-color: #ffff00\">CollectionParams</span><span style=\"color: #000000; text-decoration-color: #000000; font-weight: bold\">(</span>\n",
       "<span style=\"color: #000000; text-decoration-color: #000000\">            </span><span style=\"color: #e87d3e; text-decoration-color: #e87d3e; font-weight: bold\">vectors</span><span style=\"color: #000000; text-decoration-color: #000000\">=</span><span style=\"color: #ffff00; text-decoration-color: #ffff00\">VectorParams</span><span style=\"color: #000000; text-decoration-color: #000000; font-weight: bold\">(</span>\n",
       "<span style=\"color: #000000; text-decoration-color: #000000\">                </span><span style=\"color: #e87d3e; text-decoration-color: #e87d3e; font-weight: bold\">size</span><span style=\"color: #000000; text-decoration-color: #000000\">=</span><span style=\"color: #ffffff; text-decoration-color: #ffffff\">384</span><span style=\"color: #000000; text-decoration-color: #000000\">,</span>\n",
       "<span style=\"color: #000000; text-decoration-color: #000000\">                </span><span style=\"color: #e87d3e; text-decoration-color: #e87d3e; font-weight: bold\">distance</span><span style=\"color: #000000; text-decoration-color: #000000\">=&lt;Distance.COSINE: </span><span style=\"color: #00ff00; text-decoration-color: #00ff00\">'Cosine'</span><span style=\"font-weight: bold\">&gt;</span>,\n",
       "                <span style=\"color: #e87d3e; text-decoration-color: #e87d3e; font-weight: bold\">hnsw_config</span>=<span style=\"color: #dfdfdf; text-decoration-color: #dfdfdf\">None</span>,\n",
       "                <span style=\"color: #e87d3e; text-decoration-color: #e87d3e; font-weight: bold\">quantization_config</span>=<span style=\"color: #dfdfdf; text-decoration-color: #dfdfdf\">None</span>,\n",
       "                <span style=\"color: #e87d3e; text-decoration-color: #e87d3e; font-weight: bold\">on_disk</span>=<span style=\"color: #dfdfdf; text-decoration-color: #dfdfdf\">None</span>,\n",
       "                <span style=\"color: #e87d3e; text-decoration-color: #e87d3e; font-weight: bold\">datatype</span>=<span style=\"color: #dfdfdf; text-decoration-color: #dfdfdf\">None</span>,\n",
       "                <span style=\"color: #e87d3e; text-decoration-color: #e87d3e; font-weight: bold\">multivector_config</span>=<span style=\"color: #dfdfdf; text-decoration-color: #dfdfdf\">None</span>\n",
       "            <span style=\"font-weight: bold\">)</span>,\n",
       "            <span style=\"color: #e87d3e; text-decoration-color: #e87d3e; font-weight: bold\">shard_number</span>=<span style=\"color: #dfdfdf; text-decoration-color: #dfdfdf\">None</span>,\n",
       "            <span style=\"color: #e87d3e; text-decoration-color: #e87d3e; font-weight: bold\">sharding_method</span>=<span style=\"color: #dfdfdf; text-decoration-color: #dfdfdf\">None</span>,\n",
       "            <span style=\"color: #e87d3e; text-decoration-color: #e87d3e; font-weight: bold\">replication_factor</span>=<span style=\"color: #dfdfdf; text-decoration-color: #dfdfdf\">None</span>,\n",
       "            <span style=\"color: #e87d3e; text-decoration-color: #e87d3e; font-weight: bold\">write_consistency_factor</span>=<span style=\"color: #dfdfdf; text-decoration-color: #dfdfdf\">None</span>,\n",
       "            <span style=\"color: #e87d3e; text-decoration-color: #e87d3e; font-weight: bold\">read_fan_out_factor</span>=<span style=\"color: #dfdfdf; text-decoration-color: #dfdfdf\">None</span>,\n",
       "            <span style=\"color: #e87d3e; text-decoration-color: #e87d3e; font-weight: bold\">on_disk_payload</span>=<span style=\"color: #dfdfdf; text-decoration-color: #dfdfdf\">None</span>,\n",
       "            <span style=\"color: #e87d3e; text-decoration-color: #e87d3e; font-weight: bold\">sparse_vectors</span>=<span style=\"color: #dfdfdf; text-decoration-color: #dfdfdf\">None</span>\n",
       "        <span style=\"font-weight: bold\">)</span>,\n",
       "        <span style=\"color: #e87d3e; text-decoration-color: #e87d3e; font-weight: bold\">hnsw_config</span>=<span style=\"color: #ffff00; text-decoration-color: #ffff00\">HnswConfig</span><span style=\"font-weight: bold\">(</span>\n",
       "            <span style=\"color: #e87d3e; text-decoration-color: #e87d3e; font-weight: bold\">m</span>=<span style=\"color: #ffffff; text-decoration-color: #ffffff\">16</span>,\n",
       "            <span style=\"color: #e87d3e; text-decoration-color: #e87d3e; font-weight: bold\">ef_construct</span>=<span style=\"color: #ffffff; text-decoration-color: #ffffff\">100</span>,\n",
       "            <span style=\"color: #e87d3e; text-decoration-color: #e87d3e; font-weight: bold\">full_scan_threshold</span>=<span style=\"color: #ffffff; text-decoration-color: #ffffff\">10000</span>,\n",
       "            <span style=\"color: #e87d3e; text-decoration-color: #e87d3e; font-weight: bold\">max_indexing_threads</span>=<span style=\"color: #ffffff; text-decoration-color: #ffffff\">0</span>,\n",
       "            <span style=\"color: #e87d3e; text-decoration-color: #e87d3e; font-weight: bold\">on_disk</span>=<span style=\"color: #dfdfdf; text-decoration-color: #dfdfdf\">None</span>,\n",
       "            <span style=\"color: #e87d3e; text-decoration-color: #e87d3e; font-weight: bold\">payload_m</span>=<span style=\"color: #dfdfdf; text-decoration-color: #dfdfdf\">None</span>\n",
       "        <span style=\"font-weight: bold\">)</span>,\n",
       "        <span style=\"color: #e87d3e; text-decoration-color: #e87d3e; font-weight: bold\">optimizer_config</span>=<span style=\"color: #ffff00; text-decoration-color: #ffff00\">OptimizersConfig</span><span style=\"font-weight: bold\">(</span>\n",
       "            <span style=\"color: #e87d3e; text-decoration-color: #e87d3e; font-weight: bold\">deleted_threshold</span>=<span style=\"color: #ffffff; text-decoration-color: #ffffff\">0.2</span>,\n",
       "            <span style=\"color: #e87d3e; text-decoration-color: #e87d3e; font-weight: bold\">vacuum_min_vector_number</span>=<span style=\"color: #ffffff; text-decoration-color: #ffffff\">1000</span>,\n",
       "            <span style=\"color: #e87d3e; text-decoration-color: #e87d3e; font-weight: bold\">default_segment_number</span>=<span style=\"color: #ffffff; text-decoration-color: #ffffff\">0</span>,\n",
       "            <span style=\"color: #e87d3e; text-decoration-color: #e87d3e; font-weight: bold\">max_segment_size</span>=<span style=\"color: #dfdfdf; text-decoration-color: #dfdfdf\">None</span>,\n",
       "            <span style=\"color: #e87d3e; text-decoration-color: #e87d3e; font-weight: bold\">memmap_threshold</span>=<span style=\"color: #dfdfdf; text-decoration-color: #dfdfdf\">None</span>,\n",
       "            <span style=\"color: #e87d3e; text-decoration-color: #e87d3e; font-weight: bold\">indexing_threshold</span>=<span style=\"color: #ffffff; text-decoration-color: #ffffff\">20000</span>,\n",
       "            <span style=\"color: #e87d3e; text-decoration-color: #e87d3e; font-weight: bold\">flush_interval_sec</span>=<span style=\"color: #ffffff; text-decoration-color: #ffffff\">5</span>,\n",
       "            <span style=\"color: #e87d3e; text-decoration-color: #e87d3e; font-weight: bold\">max_optimization_threads</span>=<span style=\"color: #ffffff; text-decoration-color: #ffffff\">1</span>\n",
       "        <span style=\"font-weight: bold\">)</span>,\n",
       "        <span style=\"color: #e87d3e; text-decoration-color: #e87d3e; font-weight: bold\">wal_config</span>=<span style=\"color: #ffff00; text-decoration-color: #ffff00\">WalConfig</span><span style=\"font-weight: bold\">(</span><span style=\"color: #e87d3e; text-decoration-color: #e87d3e; font-weight: bold\">wal_capacity_mb</span>=<span style=\"color: #ffffff; text-decoration-color: #ffffff\">32</span>, <span style=\"color: #e87d3e; text-decoration-color: #e87d3e; font-weight: bold\">wal_segments_ahead</span>=<span style=\"color: #ffffff; text-decoration-color: #ffffff\">0</span><span style=\"font-weight: bold\">)</span>,\n",
       "        <span style=\"color: #e87d3e; text-decoration-color: #e87d3e; font-weight: bold\">quantization_config</span>=<span style=\"color: #dfdfdf; text-decoration-color: #dfdfdf\">None</span>,\n",
       "        <span style=\"color: #e87d3e; text-decoration-color: #e87d3e; font-weight: bold\">strict_mode_config</span>=<span style=\"color: #dfdfdf; text-decoration-color: #dfdfdf\">None</span>\n",
       "    <span style=\"font-weight: bold\">)</span>,\n",
       "    <span style=\"color: #e87d3e; text-decoration-color: #e87d3e; font-weight: bold\">payload_schema</span>=<span style=\"font-weight: bold\">{}</span>\n",
       "<span style=\"font-weight: bold\">)</span>\n",
       "</pre>\n"
      ]
     },
     "metadata": {},
     "output_type": "display_data",
     "jetTransient": {
      "display_id": null
     }
    }
   ],
   "execution_count": 8
  },
  {
   "metadata": {
    "ExecuteTime": {
     "end_time": "2025-09-03T12:30:36.493705Z",
     "start_time": "2025-09-03T12:30:36.433441Z"
    }
   },
   "cell_type": "code",
   "source": [
    "# what do we want to know\n",
    "user_prompt = \"which stations have major flooding\"\n",
    "\n",
    "# turn the query into a vector\n",
    "query_vector = encoder.encode(user_prompt).tolist()\n",
    "\n",
    "# get the results\n",
    "results = qdrant.search(collection_name=\"stations\", query_vector=query_vector, limit=3)\n",
    "\n",
    "console.print('Q:', user_prompt)\n",
    "\n",
    "# output the results\n",
    "for r in results:\n",
    "    console.print('A: Station', r.payload['name'], 'has', r.payload['flooded'] + '.')\n",
    "    console.print('score:', round(r.score, 3), '\\nfull payload:', r.payload)"
   ],
   "id": "557b2524c384653e",
   "outputs": [
    {
     "data": {
      "text/plain": [
       "Q: which stations have major flooding\n"
      ],
      "text/html": [
       "<pre style=\"white-space:pre;overflow-x:auto;line-height:normal;font-family:Menlo,'DejaVu Sans Mono',consolas,'Courier New',monospace\">Q: which stations have major flooding\n",
       "</pre>\n"
      ]
     },
     "metadata": {},
     "output_type": "display_data",
     "jetTransient": {
      "display_id": null
     }
    },
    {
     "data": {
      "text/plain": [
       "A: Station South Port Everglades has major flooding.\n"
      ],
      "text/html": [
       "<pre style=\"white-space:pre;overflow-x:auto;line-height:normal;font-family:Menlo,'DejaVu Sans Mono',consolas,'Courier New',monospace\">A: Station South Port Everglades has major flooding.\n",
       "</pre>\n"
      ]
     },
     "metadata": {},
     "output_type": "display_data",
     "jetTransient": {
      "display_id": null
     }
    },
    {
     "data": {
      "text/plain": [
       "score: \u001B[97m0.758\u001B[0m \n",
       "full payload:\n",
       "\u001B[1m{\u001B[0m\n",
       "    \u001B[92m'station_id'\u001B[0m: \u001B[97m8722956\u001B[0m,\n",
       "    \u001B[92m'abbrev'\u001B[0m: \u001B[92m'SouthPor'\u001B[0m,\n",
       "    \u001B[92m'name'\u001B[0m: \u001B[92m'South Port Everglades'\u001B[0m,\n",
       "    \u001B[92m'lon'\u001B[0m: \u001B[97m-80.116667\u001B[0m,\n",
       "    \u001B[92m'lat'\u001B[0m: \u001B[97m26.081667\u001B[0m,\n",
       "    \u001B[92m'nos_minor'\u001B[0m: \u001B[2;37mNone\u001B[0m,\n",
       "    \u001B[92m'nos_moderate'\u001B[0m: \u001B[2;37mNone\u001B[0m,\n",
       "    \u001B[92m'nos_major'\u001B[0m: \u001B[2;37mNone\u001B[0m,\n",
       "    \u001B[92m'nws_minor'\u001B[0m: \u001B[97m2.640676097560975\u001B[0m,\n",
       "    \u001B[92m'nws_moderate'\u001B[0m: \u001B[97m3.040778536585363\u001B[0m,\n",
       "    \u001B[92m'nws_major'\u001B[0m: \u001B[97m3.840983414634144\u001B[0m,\n",
       "    \u001B[92m'current_level'\u001B[0m: \u001B[97m5\u001B[0m,\n",
       "    \u001B[92m'flooded'\u001B[0m: \u001B[92m'major flooding'\u001B[0m\n",
       "\u001B[1m}\u001B[0m\n"
      ],
      "text/html": [
       "<pre style=\"white-space:pre;overflow-x:auto;line-height:normal;font-family:Menlo,'DejaVu Sans Mono',consolas,'Courier New',monospace\">score: <span style=\"color: #ffffff; text-decoration-color: #ffffff\">0.758</span> \n",
       "full payload:\n",
       "<span style=\"font-weight: bold\">{</span>\n",
       "    <span style=\"color: #00ff00; text-decoration-color: #00ff00\">'station_id'</span>: <span style=\"color: #ffffff; text-decoration-color: #ffffff\">8722956</span>,\n",
       "    <span style=\"color: #00ff00; text-decoration-color: #00ff00\">'abbrev'</span>: <span style=\"color: #00ff00; text-decoration-color: #00ff00\">'SouthPor'</span>,\n",
       "    <span style=\"color: #00ff00; text-decoration-color: #00ff00\">'name'</span>: <span style=\"color: #00ff00; text-decoration-color: #00ff00\">'South Port Everglades'</span>,\n",
       "    <span style=\"color: #00ff00; text-decoration-color: #00ff00\">'lon'</span>: <span style=\"color: #ffffff; text-decoration-color: #ffffff\">-80.116667</span>,\n",
       "    <span style=\"color: #00ff00; text-decoration-color: #00ff00\">'lat'</span>: <span style=\"color: #ffffff; text-decoration-color: #ffffff\">26.081667</span>,\n",
       "    <span style=\"color: #00ff00; text-decoration-color: #00ff00\">'nos_minor'</span>: <span style=\"color: #dfdfdf; text-decoration-color: #dfdfdf\">None</span>,\n",
       "    <span style=\"color: #00ff00; text-decoration-color: #00ff00\">'nos_moderate'</span>: <span style=\"color: #dfdfdf; text-decoration-color: #dfdfdf\">None</span>,\n",
       "    <span style=\"color: #00ff00; text-decoration-color: #00ff00\">'nos_major'</span>: <span style=\"color: #dfdfdf; text-decoration-color: #dfdfdf\">None</span>,\n",
       "    <span style=\"color: #00ff00; text-decoration-color: #00ff00\">'nws_minor'</span>: <span style=\"color: #ffffff; text-decoration-color: #ffffff\">2.640676097560975</span>,\n",
       "    <span style=\"color: #00ff00; text-decoration-color: #00ff00\">'nws_moderate'</span>: <span style=\"color: #ffffff; text-decoration-color: #ffffff\">3.040778536585363</span>,\n",
       "    <span style=\"color: #00ff00; text-decoration-color: #00ff00\">'nws_major'</span>: <span style=\"color: #ffffff; text-decoration-color: #ffffff\">3.840983414634144</span>,\n",
       "    <span style=\"color: #00ff00; text-decoration-color: #00ff00\">'current_level'</span>: <span style=\"color: #ffffff; text-decoration-color: #ffffff\">5</span>,\n",
       "    <span style=\"color: #00ff00; text-decoration-color: #00ff00\">'flooded'</span>: <span style=\"color: #00ff00; text-decoration-color: #00ff00\">'major flooding'</span>\n",
       "<span style=\"font-weight: bold\">}</span>\n",
       "</pre>\n"
      ]
     },
     "metadata": {},
     "output_type": "display_data",
     "jetTransient": {
      "display_id": null
     }
    },
    {
     "data": {
      "text/plain": [
       "A: Station Vaca Key, Florida Bay has major flooding.\n"
      ],
      "text/html": [
       "<pre style=\"white-space:pre;overflow-x:auto;line-height:normal;font-family:Menlo,'DejaVu Sans Mono',consolas,'Courier New',monospace\">A: Station Vaca Key, Florida Bay has major flooding.\n",
       "</pre>\n"
      ]
     },
     "metadata": {},
     "output_type": "display_data",
     "jetTransient": {
      "display_id": null
     }
    },
    {
     "data": {
      "text/plain": [
       "score: \u001B[97m0.758\u001B[0m \n",
       "full payload:\n",
       "\u001B[1m{\u001B[0m\n",
       "    \u001B[92m'station_id'\u001B[0m: \u001B[97m8723970\u001B[0m,\n",
       "    \u001B[92m'abbrev'\u001B[0m: \u001B[92m'VacaKey,'\u001B[0m,\n",
       "    \u001B[92m'name'\u001B[0m: \u001B[92m'Vaca Key, Florida Bay'\u001B[0m,\n",
       "    \u001B[92m'lon'\u001B[0m: \u001B[97m-81.1065\u001B[0m,\n",
       "    \u001B[92m'lat'\u001B[0m: \u001B[97m24.711\u001B[0m,\n",
       "    \u001B[92m'nos_minor'\u001B[0m: \u001B[97m2.1505506097560976\u001B[0m,\n",
       "    \u001B[92m'nos_moderate'\u001B[0m: \u001B[97m3.120799024390244\u001B[0m,\n",
       "    \u001B[92m'nos_major'\u001B[0m: \u001B[97m4.3411114634146335\u001B[0m,\n",
       "    \u001B[92m'nws_minor'\u001B[0m: \u001B[97m1.570402073170732\u001B[0m,\n",
       "    \u001B[92m'nws_moderate'\u001B[0m: \u001B[97m2.0705301219512195\u001B[0m,\n",
       "    \u001B[92m'nws_major'\u001B[0m: \u001B[97m2.5706581707317078\u001B[0m,\n",
       "    \u001B[92m'current_level'\u001B[0m: \u001B[97m5\u001B[0m,\n",
       "    \u001B[92m'flooded'\u001B[0m: \u001B[92m'major flooding'\u001B[0m\n",
       "\u001B[1m}\u001B[0m\n"
      ],
      "text/html": [
       "<pre style=\"white-space:pre;overflow-x:auto;line-height:normal;font-family:Menlo,'DejaVu Sans Mono',consolas,'Courier New',monospace\">score: <span style=\"color: #ffffff; text-decoration-color: #ffffff\">0.758</span> \n",
       "full payload:\n",
       "<span style=\"font-weight: bold\">{</span>\n",
       "    <span style=\"color: #00ff00; text-decoration-color: #00ff00\">'station_id'</span>: <span style=\"color: #ffffff; text-decoration-color: #ffffff\">8723970</span>,\n",
       "    <span style=\"color: #00ff00; text-decoration-color: #00ff00\">'abbrev'</span>: <span style=\"color: #00ff00; text-decoration-color: #00ff00\">'VacaKey,'</span>,\n",
       "    <span style=\"color: #00ff00; text-decoration-color: #00ff00\">'name'</span>: <span style=\"color: #00ff00; text-decoration-color: #00ff00\">'Vaca Key, Florida Bay'</span>,\n",
       "    <span style=\"color: #00ff00; text-decoration-color: #00ff00\">'lon'</span>: <span style=\"color: #ffffff; text-decoration-color: #ffffff\">-81.1065</span>,\n",
       "    <span style=\"color: #00ff00; text-decoration-color: #00ff00\">'lat'</span>: <span style=\"color: #ffffff; text-decoration-color: #ffffff\">24.711</span>,\n",
       "    <span style=\"color: #00ff00; text-decoration-color: #00ff00\">'nos_minor'</span>: <span style=\"color: #ffffff; text-decoration-color: #ffffff\">2.1505506097560976</span>,\n",
       "    <span style=\"color: #00ff00; text-decoration-color: #00ff00\">'nos_moderate'</span>: <span style=\"color: #ffffff; text-decoration-color: #ffffff\">3.120799024390244</span>,\n",
       "    <span style=\"color: #00ff00; text-decoration-color: #00ff00\">'nos_major'</span>: <span style=\"color: #ffffff; text-decoration-color: #ffffff\">4.3411114634146335</span>,\n",
       "    <span style=\"color: #00ff00; text-decoration-color: #00ff00\">'nws_minor'</span>: <span style=\"color: #ffffff; text-decoration-color: #ffffff\">1.570402073170732</span>,\n",
       "    <span style=\"color: #00ff00; text-decoration-color: #00ff00\">'nws_moderate'</span>: <span style=\"color: #ffffff; text-decoration-color: #ffffff\">2.0705301219512195</span>,\n",
       "    <span style=\"color: #00ff00; text-decoration-color: #00ff00\">'nws_major'</span>: <span style=\"color: #ffffff; text-decoration-color: #ffffff\">2.5706581707317078</span>,\n",
       "    <span style=\"color: #00ff00; text-decoration-color: #00ff00\">'current_level'</span>: <span style=\"color: #ffffff; text-decoration-color: #ffffff\">5</span>,\n",
       "    <span style=\"color: #00ff00; text-decoration-color: #00ff00\">'flooded'</span>: <span style=\"color: #00ff00; text-decoration-color: #00ff00\">'major flooding'</span>\n",
       "<span style=\"font-weight: bold\">}</span>\n",
       "</pre>\n"
      ]
     },
     "metadata": {},
     "output_type": "display_data",
     "jetTransient": {
      "display_id": null
     }
    },
    {
     "data": {
      "text/plain": [
       "A: Station Shell Beach has major flooding.\n"
      ],
      "text/html": [
       "<pre style=\"white-space:pre;overflow-x:auto;line-height:normal;font-family:Menlo,'DejaVu Sans Mono',consolas,'Courier New',monospace\">A: Station Shell Beach has major flooding.\n",
       "</pre>\n"
      ]
     },
     "metadata": {},
     "output_type": "display_data",
     "jetTransient": {
      "display_id": null
     }
    },
    {
     "data": {
      "text/plain": [
       "score: \u001B[97m0.758\u001B[0m \n",
       "full payload:\n",
       "\u001B[1m{\u001B[0m\n",
       "    \u001B[92m'station_id'\u001B[0m: \u001B[97m8761305\u001B[0m,\n",
       "    \u001B[92m'abbrev'\u001B[0m: \u001B[92m'ShellBea'\u001B[0m,\n",
       "    \u001B[92m'name'\u001B[0m: \u001B[92m'Shell Beach'\u001B[0m,\n",
       "    \u001B[92m'lon'\u001B[0m: \u001B[97m-89.673\u001B[0m,\n",
       "    \u001B[92m'lat'\u001B[0m: \u001B[97m29.8683\u001B[0m,\n",
       "    \u001B[92m'nos_minor'\u001B[0m: \u001B[97m2.420619756097562\u001B[0m,\n",
       "    \u001B[92m'nos_moderate'\u001B[0m: \u001B[97m3.390868170731712\u001B[0m,\n",
       "    \u001B[92m'nos_major'\u001B[0m: \u001B[97m4.621183170731706\u001B[0m,\n",
       "    \u001B[92m'nws_minor'\u001B[0m: \u001B[97m2.6406760975609807\u001B[0m,\n",
       "    \u001B[92m'nws_moderate'\u001B[0m: \u001B[97m3.6409321951219558\u001B[0m,\n",
       "    \u001B[92m'nws_major'\u001B[0m: \u001B[97m6.641700487804881\u001B[0m,\n",
       "    \u001B[92m'current_level'\u001B[0m: \u001B[97m5\u001B[0m,\n",
       "    \u001B[92m'flooded'\u001B[0m: \u001B[92m'major flooding'\u001B[0m\n",
       "\u001B[1m}\u001B[0m\n"
      ],
      "text/html": [
       "<pre style=\"white-space:pre;overflow-x:auto;line-height:normal;font-family:Menlo,'DejaVu Sans Mono',consolas,'Courier New',monospace\">score: <span style=\"color: #ffffff; text-decoration-color: #ffffff\">0.758</span> \n",
       "full payload:\n",
       "<span style=\"font-weight: bold\">{</span>\n",
       "    <span style=\"color: #00ff00; text-decoration-color: #00ff00\">'station_id'</span>: <span style=\"color: #ffffff; text-decoration-color: #ffffff\">8761305</span>,\n",
       "    <span style=\"color: #00ff00; text-decoration-color: #00ff00\">'abbrev'</span>: <span style=\"color: #00ff00; text-decoration-color: #00ff00\">'ShellBea'</span>,\n",
       "    <span style=\"color: #00ff00; text-decoration-color: #00ff00\">'name'</span>: <span style=\"color: #00ff00; text-decoration-color: #00ff00\">'Shell Beach'</span>,\n",
       "    <span style=\"color: #00ff00; text-decoration-color: #00ff00\">'lon'</span>: <span style=\"color: #ffffff; text-decoration-color: #ffffff\">-89.673</span>,\n",
       "    <span style=\"color: #00ff00; text-decoration-color: #00ff00\">'lat'</span>: <span style=\"color: #ffffff; text-decoration-color: #ffffff\">29.8683</span>,\n",
       "    <span style=\"color: #00ff00; text-decoration-color: #00ff00\">'nos_minor'</span>: <span style=\"color: #ffffff; text-decoration-color: #ffffff\">2.420619756097562</span>,\n",
       "    <span style=\"color: #00ff00; text-decoration-color: #00ff00\">'nos_moderate'</span>: <span style=\"color: #ffffff; text-decoration-color: #ffffff\">3.390868170731712</span>,\n",
       "    <span style=\"color: #00ff00; text-decoration-color: #00ff00\">'nos_major'</span>: <span style=\"color: #ffffff; text-decoration-color: #ffffff\">4.621183170731706</span>,\n",
       "    <span style=\"color: #00ff00; text-decoration-color: #00ff00\">'nws_minor'</span>: <span style=\"color: #ffffff; text-decoration-color: #ffffff\">2.6406760975609807</span>,\n",
       "    <span style=\"color: #00ff00; text-decoration-color: #00ff00\">'nws_moderate'</span>: <span style=\"color: #ffffff; text-decoration-color: #ffffff\">3.6409321951219558</span>,\n",
       "    <span style=\"color: #00ff00; text-decoration-color: #00ff00\">'nws_major'</span>: <span style=\"color: #ffffff; text-decoration-color: #ffffff\">6.641700487804881</span>,\n",
       "    <span style=\"color: #00ff00; text-decoration-color: #00ff00\">'current_level'</span>: <span style=\"color: #ffffff; text-decoration-color: #ffffff\">5</span>,\n",
       "    <span style=\"color: #00ff00; text-decoration-color: #00ff00\">'flooded'</span>: <span style=\"color: #00ff00; text-decoration-color: #00ff00\">'major flooding'</span>\n",
       "<span style=\"font-weight: bold\">}</span>\n",
       "</pre>\n"
      ]
     },
     "metadata": {},
     "output_type": "display_data",
     "jetTransient": {
      "display_id": null
     }
    }
   ],
   "execution_count": 9
  }
 ],
 "metadata": {
  "kernelspec": {
   "display_name": "Python 3",
   "language": "python",
   "name": "python3"
  },
  "language_info": {
   "codemirror_mode": {
    "name": "ipython",
    "version": 2
   },
   "file_extension": ".py",
   "mimetype": "text/x-python",
   "name": "python",
   "nbconvert_exporter": "python",
   "pygments_lexer": "ipython2",
   "version": "2.7.6"
  }
 },
 "nbformat": 4,
 "nbformat_minor": 5
}
